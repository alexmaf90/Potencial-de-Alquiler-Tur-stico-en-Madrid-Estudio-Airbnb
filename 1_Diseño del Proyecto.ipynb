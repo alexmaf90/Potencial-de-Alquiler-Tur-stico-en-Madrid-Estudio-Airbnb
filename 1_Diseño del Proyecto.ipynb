{
 "cells": [
  {
   "cell_type": "markdown",
   "id": "1878f956-2410-4deb-a9c3-7b2ad6fa6ed8",
   "metadata": {},
   "source": [
    "# DISEÑO DEL PROYECTO"
   ]
  },
  {
   "cell_type": "markdown",
   "id": "31ae469a-5708-4c71-8e3f-620725a4c27a",
   "metadata": {},
   "source": [
    "Este caso simula que somos una empresa inmobiliaria que hace inversiones en grandes ciudades comprando inmuebles para posteriormente alquilarlos como apartamentos turísticos.\n",
    "\n",
    "La dirección ha tomado la decisión de invertir en Madrid, y nos ha encargado analizar los datos que el líder del sector AirBnb hace públicos para intentar encontrar los tipos de inmuebles que tienen mayor potencial comercial para alquier turístico.\n",
    "\n",
    "Como entregable principal esperan la tipología (o tipologías) de inmuebles que el equipo de valoraciones debe buscar entre las oportunidades existentes en la ciudad y los principales barrios o zonas geográficas en las que focalizarse.\n",
    "\n",
    "Para cumplir con el objetivo aplicaremos la metodología de Discovery y las técnicas de BA aprendidas.\n",
    "\n",
    "Aunque este caso concreto esté centrado en el alquiler turístico el mismo tipo de aproximación se puede usar en casos que tengan un alto componente de \"ubicación\":\n",
    "\n",
    "* apertura y cierre de tiendas\n",
    "* reducción de capacidad instalada - En banca por ejemplo reduccion del numero de oficinas\n",
    "* expansión de franquicias\n",
    "* etc."
   ]
  },
  {
   "cell_type": "markdown",
   "id": "23a346ad-3379-446b-90b7-fa7c66eb6e13",
   "metadata": {},
   "source": [
    "## OBJETIVO"
   ]
  },
  {
   "cell_type": "markdown",
   "id": "3686b98a-8476-4b4d-a8c4-e5300565ce06",
   "metadata": {},
   "source": [
    "Localizar el perfil (o perfiles) de inmuebles que maximizan el potencial comercial en el mercado del alquiler turístico y las principales zonas donde buscarlos."
   ]
  },
  {
   "cell_type": "markdown",
   "id": "136558fd-0e0f-4e56-87d7-e24caf1ee240",
   "metadata": {},
   "source": [
    "## PALANCAS"
   ]
  },
  {
   "cell_type": "markdown",
   "id": "19294f4a-e340-4a3f-9196-26a7d43152db",
   "metadata": {},
   "source": [
    "Tras hablar con el equipo de valoraciones nos dicen que las palancas que tienen más impacto en la rentabilidad de este tipo de inversiones son:\n",
    "\n",
    "* **Precio alquiler**: cuanto más se pueda cobrar por noche mayor es la rentabilidad\n",
    "* **Ocupación**: en general cuantos más días al año se pueda alquilar un inmueble mayor es su rentabilidad\n",
    "* **Precio inmueble**: cuanto más barato se pueda adquirir la propiedad mayor es la rentabilidad"
   ]
  },
  {
   "cell_type": "markdown",
   "id": "ccefba37-3b77-4a16-8c5f-f69e1e07fe8a",
   "metadata": {},
   "source": [
    "## KPIs"
   ]
  },
  {
   "cell_type": "markdown",
   "id": "5d88252b-8616-44b4-b849-bba201f730da",
   "metadata": {},
   "source": [
    "En este ejemplo los Kpis son bastante directos:\n",
    "\n",
    "* Mediremos la ocupación como el número de días anuales que el inmueble se pueda alquilar\n",
    "* Mediremos el precio del alquiler como el precio por noche en euros según Airbnb\n",
    "* Mediremos el precio de un inmueble como la multiplicación entre el número de metros cuadrados y el precio medio del m2 en su zona, y aplicaremos un 25% de descuento sobre el precio oficial por la fuerza de negociciación de nuestro equipo de compras."
   ]
  },
  {
   "cell_type": "markdown",
   "id": "7be10dde-1dd6-44c6-b720-5088cd391184",
   "metadata": {},
   "source": [
    "## ENTIDADES Y DATOS"
   ]
  },
  {
   "cell_type": "markdown",
   "id": "e5a4a45f-47f0-49ea-8a93-79e4d4202f27",
   "metadata": {},
   "source": [
    "Las entidades relevantes para nuestro objetivo y de las que podemos disponer de datos son:\n",
    "\n",
    "* Inmuebles\n",
    "* Propietarios\n",
    "* Distritos\n",
    "\n",
    "Los datos concretos en cada uno de ellos los revisaremos en el siguiente módulo."
   ]
  },
  {
   "cell_type": "markdown",
   "id": "723fff6b-3243-4647-80bb-444adf8a21d3",
   "metadata": {},
   "source": [
    "## PREGUNTAS SEMILLA"
   ]
  },
  {
   "cell_type": "markdown",
   "id": "9ae472e2-cc47-4d7a-8e9c-c4ce8ede8362",
   "metadata": {},
   "source": [
    "Sobre el precio del alquiler:\n",
    "\n",
    "* ¿Cual es el precio medio? ¿y el rango de precios?¿Y por distritos?¿Y por barrios?\n",
    "* ¿Cual es el ranking de distritos y barrios por precio medio de alquiler?\n",
    "* ¿Qué factores (a parte de la localización determinan el precio del alquiler?\n",
    "* ¿Cual es la relación entre el tamaño del inmueble y el precio por el que se puede alquilar?\n",
    "* ¿Cómo influye la competencia (num inmuebles disponibles por barrio) sobre el precio del alquiler?\n",
    "* ¿Cómo varían los precios por tipo de alquiler (todo el piso, habitación privada, habitación compartida)?\n",
    "\n",
    "\n",
    "Sobre la ocupación:\n",
    "\n",
    "* ¿Cual es la ocupación media? ¿Y por distritos?¿Y por barrios?\n",
    "* ¿Cómo de probable es cada nivel de ocupación en cada distrito?\n",
    "* ¿Cual es el ranking de distritos y barrios por ocupación?\n",
    "* ¿Qué factores (a parte de la localización determinan la ocupación?\n",
    "* ¿Cual es la relación entre el tamaño del inmueble y su grado de ocupación?\n",
    "* ¿Cómo influye la competencia (num inmuebles disponibles por barrio) sobre la ocupación?\n",
    "\n",
    "Sobre el precio de compra:\n",
    "\n",
    "* ¿Cual es el ranking de precio por m2 por distrito?\n",
    "* ¿Cual es el ranking de precio del inmueble (m2 * tamaño medio) por distrito?\n",
    "* ¿Cual es la relación entre el precio del inmueble y el precio del alquiler por distrito?\n",
    "* ¿Cual es la relación entre el precio del inmueble y la ocupación por distrito?"
   ]
  },
  {
   "cell_type": "markdown",
   "id": "65a9cdce-4bce-463d-8682-033478399c5a",
   "metadata": {},
   "source": [
    "https://insideairbnb.com/get-the-data/"
   ]
  },
  {
   "cell_type": "code",
   "execution_count": null,
   "id": "92f76e43-6373-4783-ad72-93b2d54ff2f3",
   "metadata": {},
   "outputs": [],
   "source": []
  },
  {
   "cell_type": "code",
   "execution_count": null,
   "id": "08c74a55-481f-48d0-ba3c-81007095ddbb",
   "metadata": {},
   "outputs": [],
   "source": []
  },
  {
   "cell_type": "code",
   "execution_count": null,
   "id": "aea4e88b-5452-41a5-b855-42b2f649921f",
   "metadata": {},
   "outputs": [],
   "source": []
  },
  {
   "cell_type": "code",
   "execution_count": null,
   "id": "35484664-8028-42cf-801e-6851fe74812a",
   "metadata": {},
   "outputs": [],
   "source": []
  },
  {
   "cell_type": "code",
   "execution_count": null,
   "id": "cd92bf0f-1adc-46ef-9116-c33dc0a818b5",
   "metadata": {},
   "outputs": [],
   "source": []
  },
  {
   "cell_type": "code",
   "execution_count": null,
   "id": "96b90162-0109-4978-b7b4-98cf6a39109c",
   "metadata": {},
   "outputs": [],
   "source": []
  },
  {
   "cell_type": "code",
   "execution_count": null,
   "id": "c120c962-9245-4290-b66b-38ba5f5257f4",
   "metadata": {},
   "outputs": [],
   "source": []
  },
  {
   "cell_type": "code",
   "execution_count": null,
   "id": "a9cc3acc-a8c1-49c9-9bea-89ae7725d194",
   "metadata": {},
   "outputs": [],
   "source": []
  },
  {
   "cell_type": "code",
   "execution_count": null,
   "id": "e4055b30-58cc-458d-b6a9-64cf453f2fe6",
   "metadata": {},
   "outputs": [],
   "source": []
  },
  {
   "cell_type": "code",
   "execution_count": null,
   "id": "4ea3c5ce-3fc8-4c87-8baa-403ce32c08c3",
   "metadata": {},
   "outputs": [],
   "source": []
  },
  {
   "cell_type": "code",
   "execution_count": null,
   "id": "33a50f20-4353-4405-9f50-350ca3382f4a",
   "metadata": {},
   "outputs": [],
   "source": []
  },
  {
   "cell_type": "code",
   "execution_count": null,
   "id": "008f772b-3a83-4ec1-85eb-59e55a4b884b",
   "metadata": {},
   "outputs": [],
   "source": []
  },
  {
   "cell_type": "code",
   "execution_count": null,
   "id": "0c1bfc1d-d703-4031-b253-bc4177ac4c47",
   "metadata": {},
   "outputs": [],
   "source": []
  }
 ],
 "metadata": {
  "kernelspec": {
   "display_name": "Python 3 (ipykernel)",
   "language": "python",
   "name": "python3"
  },
  "language_info": {
   "codemirror_mode": {
    "name": "ipython",
    "version": 3
   },
   "file_extension": ".py",
   "mimetype": "text/x-python",
   "name": "python",
   "nbconvert_exporter": "python",
   "pygments_lexer": "ipython3",
   "version": "3.12.4"
  }
 },
 "nbformat": 4,
 "nbformat_minor": 5
}
