{
 "cells": [
  {
   "cell_type": "markdown",
   "id": "40f98565-ae21-4dc4-b9e9-e9383e072c87",
   "metadata": {},
   "source": [
    "# Datamart para el análisis"
   ]
  },
  {
   "cell_type": "markdown",
   "id": "b3dd232b-53ee-408d-8679-5a34de0e4073",
   "metadata": {},
   "source": [
    "Hacemos la calidad de datos antes de juntar las tablas y crear el tablon analitico. En este caso los datos no son masivos pero es buena práctica hacer primero la calidad de datos individual de cada tabla, sobre todo porque si  el volumen fuera muy alto al unirlos todavía se multiplica más.\n",
    "\n",
    "Por tanto inicialmente las dejaramos como tablas individuales, después aplicaremos calidad de datos y finalmente las uniremos para forma el tablón o más oficialmente el datamart analítico."
   ]
  },
  {
   "cell_type": "code",
   "execution_count": 1,
   "id": "8a1537ea-14b1-464b-9553-506aabc6167a",
   "metadata": {},
   "outputs": [],
   "source": [
    "import pandas as pd\n",
    "import numpy as np\n",
    "import seaborn as sns\n",
    "import matplotlib.pyplot as plt\n",
    "%matplotlib inline \n",
    "\n",
    "#Automcompletar rápido\n",
    "%config IPCompleter.greedy=True\n",
    "\n",
    "import sqlalchemy as sa"
   ]
  },
  {
   "cell_type": "markdown",
   "id": "0c4a57bc-e204-40b0-b890-707d5de54fe8",
   "metadata": {},
   "source": [
    "## Importacion de datos"
   ]
  },
  {
   "cell_type": "markdown",
   "id": "9fdfa6a0-f8d9-4be3-b5bd-b0edfb7afb30",
   "metadata": {},
   "source": [
    "### Importacion de datos internos"
   ]
  },
  {
   "cell_type": "code",
   "execution_count": 2,
   "id": "8f56af3b-4276-4491-ade6-ee2825be7e26",
   "metadata": {},
   "outputs": [],
   "source": [
    "con= sa.create_engine(\"sqlite:///Datos2023/airbnb.db\")"
   ]
  },
  {
   "cell_type": "code",
   "execution_count": 3,
   "id": "85c4c74d-b999-415e-8e82-23bfa60664b5",
   "metadata": {},
   "outputs": [
    {
     "data": {
      "text/plain": [
       "['df', 'df_analisis', 'listings', 'listings_det']"
      ]
     },
     "execution_count": 3,
     "metadata": {},
     "output_type": "execute_result"
    }
   ],
   "source": [
    "from sqlalchemy import inspect\n",
    "\n",
    "ins = inspect(con)\n",
    "tablas = ins.get_table_names()\n",
    "tablas"
   ]
  },
  {
   "cell_type": "code",
   "execution_count": 4,
   "id": "1284ed3b-cfd7-4e8b-b825-9400c8061dd7",
   "metadata": {},
   "outputs": [],
   "source": [
    "for tabla in tablas: \n",
    "    exec(f'{tabla} = pd.read_sql(tabla, con)')\n"
   ]
  },
  {
   "cell_type": "markdown",
   "id": "eb79e2c3-6072-461f-a468-ad1bba1fe37f",
   "metadata": {},
   "source": [
    "**Dimension de todas las tablas importadas**"
   ]
  },
  {
   "cell_type": "code",
   "execution_count": 5,
   "id": "d0d495cb-f734-45aa-87db-8e724dc96cbc",
   "metadata": {},
   "outputs": [
    {
     "name": "stdout",
     "output_type": "stream",
     "text": [
      "df: (21387, 23)\n",
      "df_analisis: (21319, 34)\n",
      "listings: (25543, 19)\n",
      "listings_det: (25543, 76)\n"
     ]
    }
   ],
   "source": [
    "for cada in tablas: \n",
    "    print(cada + \": \" + str(eval(cada).shape))"
   ]
  },
  {
   "cell_type": "markdown",
   "id": "cf2af5cd-905b-43be-a4b1-1c088e8d1e48",
   "metadata": {},
   "source": [
    "### Importacion de datos externos"
   ]
  },
  {
   "cell_type": "markdown",
   "id": "85e1a2a0-3a95-4ec8-a660-e75723e792b5",
   "metadata": {},
   "source": [
    "En nuestros datos no tenemos el precio de compra de un inmueble, pero es una de las palancas principales del proyecto. \n",
    "\n",
    "Por tanto vasos a buscar esos datos de forma externa.\n",
    "\n",
    "En esta página tenemos justo la info que necesitamos: https://www.idealista.com/sala-de-prensa/informes-precio-vivienda/venta/madrid-comunidad/madrid-provincia/madrid/\n",
    "\n",
    "Extraemos la información con el plugin instant data scraper de Chrome, y la guardamos en nuestra carpeta de Datos con el nombre 'precios_idealista.csv'"
   ]
  },
  {
   "cell_type": "code",
   "execution_count": 6,
   "id": "4a3081fa-8584-4b49-b885-bc1c8cdcf0f2",
   "metadata": {},
   "outputs": [
    {
     "data": {
      "text/html": [
       "<div>\n",
       "<style scoped>\n",
       "    .dataframe tbody tr th:only-of-type {\n",
       "        vertical-align: middle;\n",
       "    }\n",
       "\n",
       "    .dataframe tbody tr th {\n",
       "        vertical-align: top;\n",
       "    }\n",
       "\n",
       "    .dataframe thead th {\n",
       "        text-align: right;\n",
       "    }\n",
       "</style>\n",
       "<table border=\"1\" class=\"dataframe\">\n",
       "  <thead>\n",
       "    <tr style=\"text-align: right;\">\n",
       "      <th></th>\n",
       "      <th>distrito</th>\n",
       "      <th>precio_m2</th>\n",
       "    </tr>\n",
       "  </thead>\n",
       "  <tbody>\n",
       "    <tr>\n",
       "      <th>1</th>\n",
       "      <td>Arganzuela</td>\n",
       "      <td>4.595 €/m2</td>\n",
       "    </tr>\n",
       "    <tr>\n",
       "      <th>2</th>\n",
       "      <td>Barajas</td>\n",
       "      <td>3.549 €/m2</td>\n",
       "    </tr>\n",
       "    <tr>\n",
       "      <th>3</th>\n",
       "      <td>Carabanchel</td>\n",
       "      <td>2.612 €/m2</td>\n",
       "    </tr>\n",
       "    <tr>\n",
       "      <th>4</th>\n",
       "      <td>Centro</td>\n",
       "      <td>6.144 €/m2</td>\n",
       "    </tr>\n",
       "    <tr>\n",
       "      <th>5</th>\n",
       "      <td>Chamartín</td>\n",
       "      <td>6.039 €/m2</td>\n",
       "    </tr>\n",
       "    <tr>\n",
       "      <th>6</th>\n",
       "      <td>Chamberí</td>\n",
       "      <td>6.347 €/m2</td>\n",
       "    </tr>\n",
       "    <tr>\n",
       "      <th>7</th>\n",
       "      <td>Ciudad Lineal</td>\n",
       "      <td>3.497 €/m2</td>\n",
       "    </tr>\n",
       "    <tr>\n",
       "      <th>8</th>\n",
       "      <td>Fuencarral</td>\n",
       "      <td>3.909 €/m2</td>\n",
       "    </tr>\n",
       "    <tr>\n",
       "      <th>9</th>\n",
       "      <td>Hortaleza</td>\n",
       "      <td>4.133 €/m2</td>\n",
       "    </tr>\n",
       "    <tr>\n",
       "      <th>10</th>\n",
       "      <td>Latina</td>\n",
       "      <td>2.699 €/m2</td>\n",
       "    </tr>\n",
       "    <tr>\n",
       "      <th>11</th>\n",
       "      <td>Moncloa</td>\n",
       "      <td>4.700 €/m2</td>\n",
       "    </tr>\n",
       "    <tr>\n",
       "      <th>12</th>\n",
       "      <td>Moratalaz</td>\n",
       "      <td>3.030 €/m2</td>\n",
       "    </tr>\n",
       "    <tr>\n",
       "      <th>13</th>\n",
       "      <td>Puente de Vallecas</td>\n",
       "      <td>2.344 €/m2</td>\n",
       "    </tr>\n",
       "    <tr>\n",
       "      <th>14</th>\n",
       "      <td>Retiro</td>\n",
       "      <td>5.447 €/m2</td>\n",
       "    </tr>\n",
       "    <tr>\n",
       "      <th>15</th>\n",
       "      <td>Salamanca</td>\n",
       "      <td>7.374 €/m2</td>\n",
       "    </tr>\n",
       "    <tr>\n",
       "      <th>16</th>\n",
       "      <td>San Blas</td>\n",
       "      <td>2.863 €/m2</td>\n",
       "    </tr>\n",
       "    <tr>\n",
       "      <th>17</th>\n",
       "      <td>Tetuán</td>\n",
       "      <td>4.344 €/m2</td>\n",
       "    </tr>\n",
       "    <tr>\n",
       "      <th>18</th>\n",
       "      <td>Usera</td>\n",
       "      <td>2.368 €/m2</td>\n",
       "    </tr>\n",
       "    <tr>\n",
       "      <th>19</th>\n",
       "      <td>Vicálvaro</td>\n",
       "      <td>2.897 €/m2</td>\n",
       "    </tr>\n",
       "    <tr>\n",
       "      <th>20</th>\n",
       "      <td>Villa de Vallecas</td>\n",
       "      <td>2.800 €/m2</td>\n",
       "    </tr>\n",
       "    <tr>\n",
       "      <th>21</th>\n",
       "      <td>Villaverde</td>\n",
       "      <td>1.988 €/m2</td>\n",
       "    </tr>\n",
       "  </tbody>\n",
       "</table>\n",
       "</div>"
      ],
      "text/plain": [
       "              distrito   precio_m2\n",
       "1           Arganzuela  4.595 €/m2\n",
       "2              Barajas  3.549 €/m2\n",
       "3          Carabanchel  2.612 €/m2\n",
       "4               Centro  6.144 €/m2\n",
       "5            Chamartín  6.039 €/m2\n",
       "6             Chamberí  6.347 €/m2\n",
       "7        Ciudad Lineal  3.497 €/m2\n",
       "8           Fuencarral  3.909 €/m2\n",
       "9            Hortaleza  4.133 €/m2\n",
       "10              Latina  2.699 €/m2\n",
       "11             Moncloa  4.700 €/m2\n",
       "12           Moratalaz  3.030 €/m2\n",
       "13  Puente de Vallecas  2.344 €/m2\n",
       "14              Retiro  5.447 €/m2\n",
       "15           Salamanca  7.374 €/m2\n",
       "16            San Blas  2.863 €/m2\n",
       "17              Tetuán  4.344 €/m2\n",
       "18               Usera  2.368 €/m2\n",
       "19           Vicálvaro  2.897 €/m2\n",
       "20   Villa de Vallecas  2.800 €/m2\n",
       "21          Villaverde  1.988 €/m2"
      ]
     },
     "execution_count": 6,
     "metadata": {},
     "output_type": "execute_result"
    }
   ],
   "source": [
    "precio_m2 = (pd.read_csv(\"Datos2023/idealista2024.csv\")\n",
    " .loc[1: , [\"icon-elbow\", \"table__cell 2\"]]\n",
    " .rename(columns = {\"icon-elbow\":\"distrito\",\"table__cell 2\":\"precio_m2\"})\n",
    ")\n",
    "precio_m2"
   ]
  },
  {
   "cell_type": "code",
   "execution_count": 7,
   "id": "2548fc4a-cccf-4227-89be-e5fbda25aedd",
   "metadata": {},
   "outputs": [
    {
     "data": {
      "text/plain": [
       "distrito     object\n",
       "precio_m2    object\n",
       "dtype: object"
      ]
     },
     "execution_count": 7,
     "metadata": {},
     "output_type": "execute_result"
    }
   ],
   "source": [
    "precio_m2.dtypes"
   ]
  },
  {
   "cell_type": "code",
   "execution_count": 8,
   "id": "7abb693c-657d-4b5c-b990-889f4edc580c",
   "metadata": {},
   "outputs": [],
   "source": [
    "precio_m2[\"precio_m2\"] = precio_m2.precio_m2.str.removesuffix(\" €/m2\").str.replace(\".\", \"\").astype(\"int\")"
   ]
  },
  {
   "cell_type": "code",
   "execution_count": 9,
   "id": "571fc690-59bd-4257-a589-dbc473d42999",
   "metadata": {},
   "outputs": [
    {
     "name": "stdout",
     "output_type": "stream",
     "text": [
      "<class 'pandas.core.frame.DataFrame'>\n",
      "RangeIndex: 21 entries, 1 to 21\n",
      "Data columns (total 2 columns):\n",
      " #   Column     Non-Null Count  Dtype \n",
      "---  ------     --------------  ----- \n",
      " 0   distrito   21 non-null     object\n",
      " 1   precio_m2  21 non-null     int32 \n",
      "dtypes: int32(1), object(1)\n",
      "memory usage: 384.0+ bytes\n"
     ]
    }
   ],
   "source": [
    "precio_m2.info()"
   ]
  },
  {
   "cell_type": "code",
   "execution_count": 10,
   "id": "b58fb9d9-f71b-4903-8a21-2c2eec9a919c",
   "metadata": {},
   "outputs": [
    {
     "data": {
      "text/html": [
       "<div>\n",
       "<style scoped>\n",
       "    .dataframe tbody tr th:only-of-type {\n",
       "        vertical-align: middle;\n",
       "    }\n",
       "\n",
       "    .dataframe tbody tr th {\n",
       "        vertical-align: top;\n",
       "    }\n",
       "\n",
       "    .dataframe thead th {\n",
       "        text-align: right;\n",
       "    }\n",
       "</style>\n",
       "<table border=\"1\" class=\"dataframe\">\n",
       "  <thead>\n",
       "    <tr style=\"text-align: right;\">\n",
       "      <th></th>\n",
       "      <th>distrito</th>\n",
       "      <th>precio_m2</th>\n",
       "    </tr>\n",
       "  </thead>\n",
       "  <tbody>\n",
       "    <tr>\n",
       "      <th>15</th>\n",
       "      <td>Salamanca</td>\n",
       "      <td>7374</td>\n",
       "    </tr>\n",
       "    <tr>\n",
       "      <th>6</th>\n",
       "      <td>Chamberí</td>\n",
       "      <td>6347</td>\n",
       "    </tr>\n",
       "    <tr>\n",
       "      <th>4</th>\n",
       "      <td>Centro</td>\n",
       "      <td>6144</td>\n",
       "    </tr>\n",
       "    <tr>\n",
       "      <th>5</th>\n",
       "      <td>Chamartín</td>\n",
       "      <td>6039</td>\n",
       "    </tr>\n",
       "    <tr>\n",
       "      <th>14</th>\n",
       "      <td>Retiro</td>\n",
       "      <td>5447</td>\n",
       "    </tr>\n",
       "    <tr>\n",
       "      <th>11</th>\n",
       "      <td>Moncloa</td>\n",
       "      <td>4700</td>\n",
       "    </tr>\n",
       "    <tr>\n",
       "      <th>1</th>\n",
       "      <td>Arganzuela</td>\n",
       "      <td>4595</td>\n",
       "    </tr>\n",
       "    <tr>\n",
       "      <th>17</th>\n",
       "      <td>Tetuán</td>\n",
       "      <td>4344</td>\n",
       "    </tr>\n",
       "    <tr>\n",
       "      <th>9</th>\n",
       "      <td>Hortaleza</td>\n",
       "      <td>4133</td>\n",
       "    </tr>\n",
       "    <tr>\n",
       "      <th>8</th>\n",
       "      <td>Fuencarral</td>\n",
       "      <td>3909</td>\n",
       "    </tr>\n",
       "    <tr>\n",
       "      <th>2</th>\n",
       "      <td>Barajas</td>\n",
       "      <td>3549</td>\n",
       "    </tr>\n",
       "    <tr>\n",
       "      <th>7</th>\n",
       "      <td>Ciudad Lineal</td>\n",
       "      <td>3497</td>\n",
       "    </tr>\n",
       "    <tr>\n",
       "      <th>12</th>\n",
       "      <td>Moratalaz</td>\n",
       "      <td>3030</td>\n",
       "    </tr>\n",
       "    <tr>\n",
       "      <th>19</th>\n",
       "      <td>Vicálvaro</td>\n",
       "      <td>2897</td>\n",
       "    </tr>\n",
       "    <tr>\n",
       "      <th>16</th>\n",
       "      <td>San Blas</td>\n",
       "      <td>2863</td>\n",
       "    </tr>\n",
       "    <tr>\n",
       "      <th>20</th>\n",
       "      <td>Villa de Vallecas</td>\n",
       "      <td>2800</td>\n",
       "    </tr>\n",
       "    <tr>\n",
       "      <th>10</th>\n",
       "      <td>Latina</td>\n",
       "      <td>2699</td>\n",
       "    </tr>\n",
       "    <tr>\n",
       "      <th>3</th>\n",
       "      <td>Carabanchel</td>\n",
       "      <td>2612</td>\n",
       "    </tr>\n",
       "    <tr>\n",
       "      <th>18</th>\n",
       "      <td>Usera</td>\n",
       "      <td>2368</td>\n",
       "    </tr>\n",
       "    <tr>\n",
       "      <th>13</th>\n",
       "      <td>Puente de Vallecas</td>\n",
       "      <td>2344</td>\n",
       "    </tr>\n",
       "    <tr>\n",
       "      <th>21</th>\n",
       "      <td>Villaverde</td>\n",
       "      <td>1988</td>\n",
       "    </tr>\n",
       "  </tbody>\n",
       "</table>\n",
       "</div>"
      ],
      "text/plain": [
       "              distrito  precio_m2\n",
       "15           Salamanca       7374\n",
       "6             Chamberí       6347\n",
       "4               Centro       6144\n",
       "5            Chamartín       6039\n",
       "14              Retiro       5447\n",
       "11             Moncloa       4700\n",
       "1           Arganzuela       4595\n",
       "17              Tetuán       4344\n",
       "9            Hortaleza       4133\n",
       "8           Fuencarral       3909\n",
       "2              Barajas       3549\n",
       "7        Ciudad Lineal       3497\n",
       "12           Moratalaz       3030\n",
       "19           Vicálvaro       2897\n",
       "16            San Blas       2863\n",
       "20   Villa de Vallecas       2800\n",
       "10              Latina       2699\n",
       "3          Carabanchel       2612\n",
       "18               Usera       2368\n",
       "13  Puente de Vallecas       2344\n",
       "21          Villaverde       1988"
      ]
     },
     "execution_count": 10,
     "metadata": {},
     "output_type": "execute_result"
    }
   ],
   "source": [
    "precio_m2.sort_values(by=\"precio_m2\",ascending=False)"
   ]
  },
  {
   "cell_type": "markdown",
   "id": "379359e5-7711-48da-9c8f-63cf52809001",
   "metadata": {},
   "source": [
    "## Calidad de datos"
   ]
  },
  {
   "cell_type": "markdown",
   "id": "494c6ae3-4607-4d80-8be1-69ffa89f6225",
   "metadata": {},
   "source": [
    "En primer lugar haremos la calidad de datos individual de cada tabla, y finalmente las uniremos para forma el tablón analítico."
   ]
  },
  {
   "cell_type": "markdown",
   "id": "98aec55f-799a-4650-856f-e08ab1e73c93",
   "metadata": {},
   "source": [
    "### Tabla Listings"
   ]
  },
  {
   "cell_type": "code",
   "execution_count": 11,
   "id": "f7f9c08a-6504-4592-8a32-d90f34f67460",
   "metadata": {},
   "outputs": [
    {
     "data": {
      "text/html": [
       "<div>\n",
       "<style scoped>\n",
       "    .dataframe tbody tr th:only-of-type {\n",
       "        vertical-align: middle;\n",
       "    }\n",
       "\n",
       "    .dataframe tbody tr th {\n",
       "        vertical-align: top;\n",
       "    }\n",
       "\n",
       "    .dataframe thead th {\n",
       "        text-align: right;\n",
       "    }\n",
       "</style>\n",
       "<table border=\"1\" class=\"dataframe\">\n",
       "  <thead>\n",
       "    <tr style=\"text-align: right;\">\n",
       "      <th></th>\n",
       "      <th>index</th>\n",
       "      <th>id</th>\n",
       "      <th>name</th>\n",
       "      <th>host_id</th>\n",
       "      <th>host_name</th>\n",
       "      <th>neighbourhood_group</th>\n",
       "      <th>neighbourhood</th>\n",
       "      <th>latitude</th>\n",
       "      <th>longitude</th>\n",
       "      <th>room_type</th>\n",
       "      <th>price</th>\n",
       "      <th>minimum_nights</th>\n",
       "      <th>number_of_reviews</th>\n",
       "      <th>last_review</th>\n",
       "      <th>reviews_per_month</th>\n",
       "      <th>calculated_host_listings_count</th>\n",
       "      <th>availability_365</th>\n",
       "      <th>number_of_reviews_ltm</th>\n",
       "      <th>license</th>\n",
       "    </tr>\n",
       "  </thead>\n",
       "  <tbody>\n",
       "    <tr>\n",
       "      <th>0</th>\n",
       "      <td>0</td>\n",
       "      <td>6369</td>\n",
       "      <td>Rental unit in Madrid · ★4.88 · 1 bedroom · 1 ...</td>\n",
       "      <td>13660</td>\n",
       "      <td>Simon</td>\n",
       "      <td>Chamartín</td>\n",
       "      <td>Hispanoamérica</td>\n",
       "      <td>40.45724</td>\n",
       "      <td>-3.67688</td>\n",
       "      <td>Private room</td>\n",
       "      <td>85.0</td>\n",
       "      <td>5</td>\n",
       "      <td>106</td>\n",
       "      <td>2023-10-16</td>\n",
       "      <td>0.63</td>\n",
       "      <td>1</td>\n",
       "      <td>22</td>\n",
       "      <td>4</td>\n",
       "      <td>None</td>\n",
       "    </tr>\n",
       "    <tr>\n",
       "      <th>1</th>\n",
       "      <td>1</td>\n",
       "      <td>30320</td>\n",
       "      <td>Rental unit in Madrid · ★4.63 · 1 bedroom · 2 ...</td>\n",
       "      <td>130907</td>\n",
       "      <td>Dana</td>\n",
       "      <td>Centro</td>\n",
       "      <td>Sol</td>\n",
       "      <td>40.41476</td>\n",
       "      <td>-3.70418</td>\n",
       "      <td>Entire home/apt</td>\n",
       "      <td>65.0</td>\n",
       "      <td>5</td>\n",
       "      <td>172</td>\n",
       "      <td>2022-09-26</td>\n",
       "      <td>1.05</td>\n",
       "      <td>3</td>\n",
       "      <td>0</td>\n",
       "      <td>0</td>\n",
       "      <td>None</td>\n",
       "    </tr>\n",
       "    <tr>\n",
       "      <th>2</th>\n",
       "      <td>2</td>\n",
       "      <td>21853</td>\n",
       "      <td>Rental unit in Madrid · ★4.58 · 1 bedroom · 1 ...</td>\n",
       "      <td>83531</td>\n",
       "      <td>Abdel</td>\n",
       "      <td>Latina</td>\n",
       "      <td>Cármenes</td>\n",
       "      <td>40.40381</td>\n",
       "      <td>-3.74130</td>\n",
       "      <td>Private room</td>\n",
       "      <td>31.0</td>\n",
       "      <td>4</td>\n",
       "      <td>33</td>\n",
       "      <td>2018-07-15</td>\n",
       "      <td>0.30</td>\n",
       "      <td>2</td>\n",
       "      <td>135</td>\n",
       "      <td>0</td>\n",
       "      <td>None</td>\n",
       "    </tr>\n",
       "    <tr>\n",
       "      <th>3</th>\n",
       "      <td>3</td>\n",
       "      <td>24805</td>\n",
       "      <td>Rental unit in Madrid · ★4.91 · 6 bedrooms · 1...</td>\n",
       "      <td>346366726</td>\n",
       "      <td>Alvaro</td>\n",
       "      <td>Centro</td>\n",
       "      <td>Universidad</td>\n",
       "      <td>40.42183</td>\n",
       "      <td>-3.70529</td>\n",
       "      <td>Entire home/apt</td>\n",
       "      <td>94.0</td>\n",
       "      <td>5</td>\n",
       "      <td>33</td>\n",
       "      <td>2023-11-06</td>\n",
       "      <td>0.30</td>\n",
       "      <td>1</td>\n",
       "      <td>168</td>\n",
       "      <td>8</td>\n",
       "      <td>None</td>\n",
       "    </tr>\n",
       "    <tr>\n",
       "      <th>4</th>\n",
       "      <td>4</td>\n",
       "      <td>30959</td>\n",
       "      <td>Loft in Madrid · ★4.38 · 1 bedroom · 1 bed · 1...</td>\n",
       "      <td>132883</td>\n",
       "      <td>Angela</td>\n",
       "      <td>Centro</td>\n",
       "      <td>Embajadores</td>\n",
       "      <td>40.41259</td>\n",
       "      <td>-3.70105</td>\n",
       "      <td>Entire home/apt</td>\n",
       "      <td>NaN</td>\n",
       "      <td>3</td>\n",
       "      <td>8</td>\n",
       "      <td>2017-05-30</td>\n",
       "      <td>0.08</td>\n",
       "      <td>1</td>\n",
       "      <td>0</td>\n",
       "      <td>0</td>\n",
       "      <td>None</td>\n",
       "    </tr>\n",
       "  </tbody>\n",
       "</table>\n",
       "</div>"
      ],
      "text/plain": [
       "   index     id                                               name    host_id  \\\n",
       "0      0   6369  Rental unit in Madrid · ★4.88 · 1 bedroom · 1 ...      13660   \n",
       "1      1  30320  Rental unit in Madrid · ★4.63 · 1 bedroom · 2 ...     130907   \n",
       "2      2  21853  Rental unit in Madrid · ★4.58 · 1 bedroom · 1 ...      83531   \n",
       "3      3  24805  Rental unit in Madrid · ★4.91 · 6 bedrooms · 1...  346366726   \n",
       "4      4  30959  Loft in Madrid · ★4.38 · 1 bedroom · 1 bed · 1...     132883   \n",
       "\n",
       "  host_name neighbourhood_group   neighbourhood  latitude  longitude  \\\n",
       "0     Simon           Chamartín  Hispanoamérica  40.45724   -3.67688   \n",
       "1      Dana              Centro             Sol  40.41476   -3.70418   \n",
       "2     Abdel              Latina        Cármenes  40.40381   -3.74130   \n",
       "3    Alvaro              Centro     Universidad  40.42183   -3.70529   \n",
       "4    Angela              Centro     Embajadores  40.41259   -3.70105   \n",
       "\n",
       "         room_type  price  minimum_nights  number_of_reviews last_review  \\\n",
       "0     Private room   85.0               5                106  2023-10-16   \n",
       "1  Entire home/apt   65.0               5                172  2022-09-26   \n",
       "2     Private room   31.0               4                 33  2018-07-15   \n",
       "3  Entire home/apt   94.0               5                 33  2023-11-06   \n",
       "4  Entire home/apt    NaN               3                  8  2017-05-30   \n",
       "\n",
       "   reviews_per_month  calculated_host_listings_count  availability_365  \\\n",
       "0               0.63                               1                22   \n",
       "1               1.05                               3                 0   \n",
       "2               0.30                               2               135   \n",
       "3               0.30                               1               168   \n",
       "4               0.08                               1                 0   \n",
       "\n",
       "   number_of_reviews_ltm license  \n",
       "0                      4    None  \n",
       "1                      0    None  \n",
       "2                      0    None  \n",
       "3                      8    None  \n",
       "4                      0    None  "
      ]
     },
     "execution_count": 11,
     "metadata": {},
     "output_type": "execute_result"
    }
   ],
   "source": [
    "listings.head(5)"
   ]
  },
  {
   "cell_type": "code",
   "execution_count": 12,
   "id": "f7cbd671-7783-4adc-b845-1c80a652483a",
   "metadata": {},
   "outputs": [
    {
     "name": "stdout",
     "output_type": "stream",
     "text": [
      "<class 'pandas.core.frame.DataFrame'>\n",
      "RangeIndex: 25543 entries, 0 to 25542\n",
      "Data columns (total 19 columns):\n",
      " #   Column                          Non-Null Count  Dtype  \n",
      "---  ------                          --------------  -----  \n",
      " 0   index                           25543 non-null  int64  \n",
      " 1   id                              25543 non-null  int64  \n",
      " 2   name                            25543 non-null  object \n",
      " 3   host_id                         25543 non-null  int64  \n",
      " 4   host_name                       25532 non-null  object \n",
      " 5   neighbourhood_group             25543 non-null  object \n",
      " 6   neighbourhood                   25543 non-null  object \n",
      " 7   latitude                        25543 non-null  float64\n",
      " 8   longitude                       25543 non-null  float64\n",
      " 9   room_type                       25543 non-null  object \n",
      " 10  price                           21734 non-null  float64\n",
      " 11  minimum_nights                  25543 non-null  int64  \n",
      " 12  number_of_reviews               25543 non-null  int64  \n",
      " 13  last_review                     20176 non-null  object \n",
      " 14  reviews_per_month               20176 non-null  float64\n",
      " 15  calculated_host_listings_count  25543 non-null  int64  \n",
      " 16  availability_365                25543 non-null  int64  \n",
      " 17  number_of_reviews_ltm           25543 non-null  int64  \n",
      " 18  license                         2784 non-null   object \n",
      "dtypes: float64(4), int64(8), object(7)\n",
      "memory usage: 3.7+ MB\n"
     ]
    }
   ],
   "source": [
    "listings.info()"
   ]
  },
  {
   "cell_type": "markdown",
   "id": "e732b8ac-d890-4613-8c20-0d7bd50cdfae",
   "metadata": {},
   "source": [
    "#### Variables y data types"
   ]
  },
  {
   "cell_type": "markdown",
   "id": "769e91e4-95c1-4b1b-83c2-ec37a02d9cad",
   "metadata": {},
   "source": [
    "- Nos quedamos con las variables que nos interesan en nuestro caso. "
   ]
  },
  {
   "cell_type": "code",
   "execution_count": 13,
   "id": "7ec584c1-8a28-476d-899d-485508bee1aa",
   "metadata": {},
   "outputs": [
    {
     "data": {
      "text/html": [
       "<div>\n",
       "<style scoped>\n",
       "    .dataframe tbody tr th:only-of-type {\n",
       "        vertical-align: middle;\n",
       "    }\n",
       "\n",
       "    .dataframe tbody tr th {\n",
       "        vertical-align: top;\n",
       "    }\n",
       "\n",
       "    .dataframe thead th {\n",
       "        text-align: right;\n",
       "    }\n",
       "</style>\n",
       "<table border=\"1\" class=\"dataframe\">\n",
       "  <thead>\n",
       "    <tr style=\"text-align: right;\">\n",
       "      <th></th>\n",
       "      <th>id</th>\n",
       "      <th>name</th>\n",
       "      <th>host_id</th>\n",
       "      <th>neighbourhood_group</th>\n",
       "      <th>neighbourhood</th>\n",
       "      <th>latitude</th>\n",
       "      <th>longitude</th>\n",
       "      <th>room_type</th>\n",
       "      <th>price</th>\n",
       "      <th>minimum_nights</th>\n",
       "      <th>calculated_host_listings_count</th>\n",
       "      <th>availability_365</th>\n",
       "    </tr>\n",
       "  </thead>\n",
       "  <tbody>\n",
       "    <tr>\n",
       "      <th>0</th>\n",
       "      <td>6369</td>\n",
       "      <td>Rental unit in Madrid · ★4.88 · 1 bedroom · 1 ...</td>\n",
       "      <td>13660</td>\n",
       "      <td>Chamartín</td>\n",
       "      <td>Hispanoamérica</td>\n",
       "      <td>40.45724</td>\n",
       "      <td>-3.67688</td>\n",
       "      <td>Private room</td>\n",
       "      <td>85.0</td>\n",
       "      <td>5</td>\n",
       "      <td>1</td>\n",
       "      <td>22</td>\n",
       "    </tr>\n",
       "    <tr>\n",
       "      <th>1</th>\n",
       "      <td>30320</td>\n",
       "      <td>Rental unit in Madrid · ★4.63 · 1 bedroom · 2 ...</td>\n",
       "      <td>130907</td>\n",
       "      <td>Centro</td>\n",
       "      <td>Sol</td>\n",
       "      <td>40.41476</td>\n",
       "      <td>-3.70418</td>\n",
       "      <td>Entire home/apt</td>\n",
       "      <td>65.0</td>\n",
       "      <td>5</td>\n",
       "      <td>3</td>\n",
       "      <td>0</td>\n",
       "    </tr>\n",
       "    <tr>\n",
       "      <th>2</th>\n",
       "      <td>21853</td>\n",
       "      <td>Rental unit in Madrid · ★4.58 · 1 bedroom · 1 ...</td>\n",
       "      <td>83531</td>\n",
       "      <td>Latina</td>\n",
       "      <td>Cármenes</td>\n",
       "      <td>40.40381</td>\n",
       "      <td>-3.74130</td>\n",
       "      <td>Private room</td>\n",
       "      <td>31.0</td>\n",
       "      <td>4</td>\n",
       "      <td>2</td>\n",
       "      <td>135</td>\n",
       "    </tr>\n",
       "    <tr>\n",
       "      <th>3</th>\n",
       "      <td>24805</td>\n",
       "      <td>Rental unit in Madrid · ★4.91 · 6 bedrooms · 1...</td>\n",
       "      <td>346366726</td>\n",
       "      <td>Centro</td>\n",
       "      <td>Universidad</td>\n",
       "      <td>40.42183</td>\n",
       "      <td>-3.70529</td>\n",
       "      <td>Entire home/apt</td>\n",
       "      <td>94.0</td>\n",
       "      <td>5</td>\n",
       "      <td>1</td>\n",
       "      <td>168</td>\n",
       "    </tr>\n",
       "    <tr>\n",
       "      <th>4</th>\n",
       "      <td>30959</td>\n",
       "      <td>Loft in Madrid · ★4.38 · 1 bedroom · 1 bed · 1...</td>\n",
       "      <td>132883</td>\n",
       "      <td>Centro</td>\n",
       "      <td>Embajadores</td>\n",
       "      <td>40.41259</td>\n",
       "      <td>-3.70105</td>\n",
       "      <td>Entire home/apt</td>\n",
       "      <td>NaN</td>\n",
       "      <td>3</td>\n",
       "      <td>1</td>\n",
       "      <td>0</td>\n",
       "    </tr>\n",
       "  </tbody>\n",
       "</table>\n",
       "</div>"
      ],
      "text/plain": [
       "      id                                               name    host_id  \\\n",
       "0   6369  Rental unit in Madrid · ★4.88 · 1 bedroom · 1 ...      13660   \n",
       "1  30320  Rental unit in Madrid · ★4.63 · 1 bedroom · 2 ...     130907   \n",
       "2  21853  Rental unit in Madrid · ★4.58 · 1 bedroom · 1 ...      83531   \n",
       "3  24805  Rental unit in Madrid · ★4.91 · 6 bedrooms · 1...  346366726   \n",
       "4  30959  Loft in Madrid · ★4.38 · 1 bedroom · 1 bed · 1...     132883   \n",
       "\n",
       "  neighbourhood_group   neighbourhood  latitude  longitude        room_type  \\\n",
       "0           Chamartín  Hispanoamérica  40.45724   -3.67688     Private room   \n",
       "1              Centro             Sol  40.41476   -3.70418  Entire home/apt   \n",
       "2              Latina        Cármenes  40.40381   -3.74130     Private room   \n",
       "3              Centro     Universidad  40.42183   -3.70529  Entire home/apt   \n",
       "4              Centro     Embajadores  40.41259   -3.70105  Entire home/apt   \n",
       "\n",
       "   price  minimum_nights  calculated_host_listings_count  availability_365  \n",
       "0   85.0               5                               1                22  \n",
       "1   65.0               5                               3                 0  \n",
       "2   31.0               4                               2               135  \n",
       "3   94.0               5                               1               168  \n",
       "4    NaN               3                               1                 0  "
      ]
     },
     "execution_count": 13,
     "metadata": {},
     "output_type": "execute_result"
    }
   ],
   "source": [
    "listings = listings[['id', 'name', 'host_id', 'neighbourhood_group',\n",
    "       'neighbourhood', 'latitude', 'longitude', 'room_type', 'price',\n",
    "       'minimum_nights', 'calculated_host_listings_count',\n",
    "       'availability_365']]\n",
    "listings.head(5)"
   ]
  },
  {
   "cell_type": "markdown",
   "id": "a5f7a571-7f41-4833-99cb-1fad714dba88",
   "metadata": {},
   "source": [
    "#### Creacion de nuevas variables "
   ]
  },
  {
   "cell_type": "markdown",
   "id": "e4516637-d257-47eb-bc25-e2ddb34dd07d",
   "metadata": {},
   "source": [
    "- La variable 'name' contiene una descripción detallada de la vivienda, incluyendo el número de habitaciones y baños. Utilizaremos esta información para crear nuevas variables relevantes para nuestro análisis"
   ]
  },
  {
   "cell_type": "markdown",
   "id": "f14e76c6-2c84-418e-b979-de9213be5370",
   "metadata": {},
   "source": [
    "##### Bedrooms"
   ]
  },
  {
   "cell_type": "code",
   "execution_count": 14,
   "id": "f65b076f-bb63-4e84-84d5-c6cb907cf845",
   "metadata": {},
   "outputs": [],
   "source": [
    "def extract_bedrooms(name):\n",
    "    words = name.split()\n",
    "    try:\n",
    "        index = words.index(\"bedrooms\" if \"bedrooms\" in words else \"bedroom\") - 1\n",
    "        return int(words[index]) if index >= 0 else None\n",
    "    except ValueError:\n",
    "        return None\n"
   ]
  },
  {
   "cell_type": "code",
   "execution_count": 15,
   "id": "80f0fd36-e70d-4a34-942e-16ed34902fa3",
   "metadata": {
    "scrolled": true
   },
   "outputs": [],
   "source": [
    "listings[\"bedrooms\"] = listings[\"name\"].apply(extract_bedrooms)\n"
   ]
  },
  {
   "cell_type": "markdown",
   "id": "4dcc0b82-c4a8-4d65-abd6-a34aded4e116",
   "metadata": {},
   "source": [
    "##### Bathrooms"
   ]
  },
  {
   "cell_type": "code",
   "execution_count": 16,
   "id": "2fce4b6d-4dc3-4518-bdb8-36879e4d95b5",
   "metadata": {},
   "outputs": [],
   "source": [
    "def extract_bathrooms(name):\n",
    "    words = name.split()\n",
    "    try:\n",
    "        for i, word in enumerate(words):\n",
    "            if word in [\"private\", \"shared\", \"bath\", \"baths\", \"Half-bath\"]:\n",
    "                if words[i-1].replace('.', '').isdigit():  # Check if previous word is a number\n",
    "                    return float(words[i-1])  # Convert to float if it's a decimal\n",
    "                elif words[i-1].isdigit():  # Check if previous word is a number\n",
    "                    return int(words[i-1])  # Convert to int if it's an integer\n",
    "        return None\n",
    "    except IndexError:\n",
    "        return None\n"
   ]
  },
  {
   "cell_type": "code",
   "execution_count": 17,
   "id": "2266c826-26ac-43fd-b6d0-9bc5952a9472",
   "metadata": {},
   "outputs": [],
   "source": [
    "listings[\"bathrooms\"] = listings[\"name\"].apply(extract_bathrooms)"
   ]
  },
  {
   "cell_type": "markdown",
   "id": "f3a197a5-f3e9-47c8-b824-5a123afb40ef",
   "metadata": {},
   "source": [
    "- Revisamos los tipos de las variables"
   ]
  },
  {
   "cell_type": "code",
   "execution_count": 18,
   "id": "7c90b7fd-a739-4d02-b87d-04c434dc82a9",
   "metadata": {
    "scrolled": true
   },
   "outputs": [
    {
     "name": "stdout",
     "output_type": "stream",
     "text": [
      "<class 'pandas.core.frame.DataFrame'>\n",
      "RangeIndex: 25543 entries, 0 to 25542\n",
      "Data columns (total 14 columns):\n",
      " #   Column                          Non-Null Count  Dtype  \n",
      "---  ------                          --------------  -----  \n",
      " 0   id                              25543 non-null  int64  \n",
      " 1   name                            25543 non-null  object \n",
      " 2   host_id                         25543 non-null  int64  \n",
      " 3   neighbourhood_group             25543 non-null  object \n",
      " 4   neighbourhood                   25543 non-null  object \n",
      " 5   latitude                        25543 non-null  float64\n",
      " 6   longitude                       25543 non-null  float64\n",
      " 7   room_type                       25543 non-null  object \n",
      " 8   price                           21734 non-null  float64\n",
      " 9   minimum_nights                  25543 non-null  int64  \n",
      " 10  calculated_host_listings_count  25543 non-null  int64  \n",
      " 11  availability_365                25543 non-null  int64  \n",
      " 12  bedrooms                        23796 non-null  float64\n",
      " 13  bathrooms                       25346 non-null  float64\n",
      "dtypes: float64(5), int64(5), object(4)\n",
      "memory usage: 2.7+ MB\n"
     ]
    }
   ],
   "source": [
    "listings.info()"
   ]
  },
  {
   "cell_type": "code",
   "execution_count": 19,
   "id": "c4be006f-9a52-4bf7-93b4-b780f8c8d11b",
   "metadata": {},
   "outputs": [],
   "source": [
    "for elem in [\"neighbourhood_group\",\"neighbourhood\", \"room_type\"]:\n",
    "    listings[elem] = listings[elem].astype(\"category\")"
   ]
  },
  {
   "cell_type": "code",
   "execution_count": 20,
   "id": "95ba940a-2d2b-4caa-92ed-db6387339d8d",
   "metadata": {},
   "outputs": [
    {
     "name": "stdout",
     "output_type": "stream",
     "text": [
      "<class 'pandas.core.frame.DataFrame'>\n",
      "RangeIndex: 25543 entries, 0 to 25542\n",
      "Data columns (total 14 columns):\n",
      " #   Column                          Non-Null Count  Dtype   \n",
      "---  ------                          --------------  -----   \n",
      " 0   id                              25543 non-null  int64   \n",
      " 1   name                            25543 non-null  object  \n",
      " 2   host_id                         25543 non-null  int64   \n",
      " 3   neighbourhood_group             25543 non-null  category\n",
      " 4   neighbourhood                   25543 non-null  category\n",
      " 5   latitude                        25543 non-null  float64 \n",
      " 6   longitude                       25543 non-null  float64 \n",
      " 7   room_type                       25543 non-null  category\n",
      " 8   price                           21734 non-null  float64 \n",
      " 9   minimum_nights                  25543 non-null  int64   \n",
      " 10  calculated_host_listings_count  25543 non-null  int64   \n",
      " 11  availability_365                25543 non-null  int64   \n",
      " 12  bedrooms                        23796 non-null  float64 \n",
      " 13  bathrooms                       25346 non-null  float64 \n",
      "dtypes: category(3), float64(5), int64(5), object(1)\n",
      "memory usage: 2.2+ MB\n"
     ]
    }
   ],
   "source": [
    "listings.info()"
   ]
  },
  {
   "cell_type": "markdown",
   "id": "24494c4b-eec0-4a5b-8816-b7f5e92aaa8a",
   "metadata": {},
   "source": [
    "#### Analisis de nulos"
   ]
  },
  {
   "cell_type": "code",
   "execution_count": 21,
   "id": "1c1b3b2b-75c6-4eb1-a9a4-13e1a219e33d",
   "metadata": {
    "scrolled": true
   },
   "outputs": [
    {
     "data": {
      "text/plain": [
       "id                                   0\n",
       "name                                 0\n",
       "host_id                              0\n",
       "neighbourhood_group                  0\n",
       "neighbourhood                        0\n",
       "latitude                             0\n",
       "longitude                            0\n",
       "room_type                            0\n",
       "price                             3809\n",
       "minimum_nights                       0\n",
       "calculated_host_listings_count       0\n",
       "availability_365                     0\n",
       "bedrooms                          1747\n",
       "bathrooms                          197\n",
       "dtype: int64"
      ]
     },
     "execution_count": 21,
     "metadata": {},
     "output_type": "execute_result"
    }
   ],
   "source": [
    "listings.isna().sum()"
   ]
  },
  {
   "cell_type": "markdown",
   "id": "00b053fe-4f95-4ee0-98f5-f495f608a1a9",
   "metadata": {},
   "source": [
    "**Nulos en el precio**"
   ]
  },
  {
   "cell_type": "code",
   "execution_count": 22,
   "id": "ae3d9b20-5014-44bd-a534-8e1884e9ae39",
   "metadata": {},
   "outputs": [],
   "source": [
    "listings.dropna(subset=\"price\", inplace=True)"
   ]
  },
  {
   "cell_type": "markdown",
   "id": "5cbdf658-8b0c-43e4-a540-eb08c12b5bee",
   "metadata": {},
   "source": [
    "**Nulos en bedrooms**\n"
   ]
  },
  {
   "cell_type": "code",
   "execution_count": 23,
   "id": "8393b9ef-92b0-4957-b1ce-86b76cdb6b1e",
   "metadata": {},
   "outputs": [
    {
     "data": {
      "text/plain": [
       "(1505, 14)"
      ]
     },
     "execution_count": 23,
     "metadata": {},
     "output_type": "execute_result"
    }
   ],
   "source": [
    "listings.loc[listings.bedrooms.isna()].shape"
   ]
  },
  {
   "cell_type": "markdown",
   "id": "19f0c75b-de46-4e40-be7a-80cd3aa2b66e",
   "metadata": {},
   "source": [
    "- Observamos que la mayoría de los valores nulos en la variable 'bedrooms' corresponden a inmuebles de tipo 'Studio', como indica la variable 'name'. \n",
    "- Por lo tanto, vamos a actualizar el tipo de habitación ('room_type') a 'Studio' para todos los inmuebles cuyo nombre contenga la palabra 'Studio'. \n",
    "- Por último a los Studios les asignamos 1 habitación. "
   ]
  },
  {
   "cell_type": "code",
   "execution_count": 24,
   "id": "d5a0be03-07d7-437c-ace5-64045d809067",
   "metadata": {},
   "outputs": [
    {
     "data": {
      "text/plain": [
       "name\n",
       "False    20244\n",
       "True      1490\n",
       "Name: count, dtype: int64"
      ]
     },
     "execution_count": 24,
     "metadata": {},
     "output_type": "execute_result"
    }
   ],
   "source": [
    "listings.name.str.contains(\"Studio\").value_counts()"
   ]
  },
  {
   "cell_type": "code",
   "execution_count": 25,
   "id": "aaa4abc0-ec8d-4c1e-a1e5-b29ac53408de",
   "metadata": {},
   "outputs": [],
   "source": [
    "existing_categories = listings['room_type'].unique()\n",
    "\n",
    "# Agregar \"Studio\" a las categorías existentes\n",
    "new_categories = list(existing_categories) + ['Studio']\n",
    "\n",
    "# Actualizar las categorías en la columna 'room_type'\n",
    "listings['room_type'] = listings['room_type'].astype('category')\n",
    "listings['room_type'] = listings['room_type'].cat.set_categories(new_categories)\n",
    "\n",
    "listings.loc[listings[\"name\"].str.contains(\"Studio\"), \"room_type\"] = \"Studio\""
   ]
  },
  {
   "cell_type": "code",
   "execution_count": 26,
   "id": "7122eaf5-77c7-457f-b5ad-36a19e75cbfa",
   "metadata": {},
   "outputs": [],
   "source": [
    "listings.loc[listings.room_type==\"Studio\", \"bedrooms\"] =1"
   ]
  },
  {
   "cell_type": "markdown",
   "id": "a40fe7f6-7b84-4f8a-a3f9-28da55d45744",
   "metadata": {},
   "source": [
    "- Eliminamos las viviendas en las que no se informa el número de habitaciones. "
   ]
  },
  {
   "cell_type": "code",
   "execution_count": 27,
   "id": "97ac1c2b-4e15-4845-8462-d34676f9cfa7",
   "metadata": {},
   "outputs": [],
   "source": [
    "listings.dropna(subset=\"bedrooms\", inplace=True)"
   ]
  },
  {
   "cell_type": "markdown",
   "id": "b4e22e36-65f8-458d-b874-8f4dc7836876",
   "metadata": {},
   "source": [
    "**Nulos en Bathtooms**"
   ]
  },
  {
   "cell_type": "code",
   "execution_count": 28,
   "id": "aaa5509c-9bb9-46bc-be3b-fde052b4ee04",
   "metadata": {},
   "outputs": [
    {
     "data": {
      "text/plain": [
       "name\n",
       "False    21593\n",
       "True       126\n",
       "Name: count, dtype: int64"
      ]
     },
     "execution_count": 28,
     "metadata": {},
     "output_type": "execute_result"
    }
   ],
   "source": [
    "listings.name.str.contains(\"Half-bath\").value_counts()"
   ]
  },
  {
   "cell_type": "code",
   "execution_count": 29,
   "id": "a81e893e-f27a-47f4-ac0d-b1f45e6cabb7",
   "metadata": {},
   "outputs": [],
   "source": [
    "listings[\"bathrooms\"] = listings[\"bathrooms\"].fillna(listings.loc[listings[\"name\"].str.contains(\"Half-bath\"), \"bathrooms\"].fillna(0.5))\n",
    "listings[\"bathrooms\"] = listings[\"bathrooms\"].fillna(0)"
   ]
  },
  {
   "cell_type": "code",
   "execution_count": 30,
   "id": "80b8a6f3-e82e-4294-a6b0-29c472179e76",
   "metadata": {
    "scrolled": true
   },
   "outputs": [
    {
     "data": {
      "text/plain": [
       "id                                0\n",
       "name                              0\n",
       "host_id                           0\n",
       "neighbourhood_group               0\n",
       "neighbourhood                     0\n",
       "latitude                          0\n",
       "longitude                         0\n",
       "room_type                         0\n",
       "price                             0\n",
       "minimum_nights                    0\n",
       "calculated_host_listings_count    0\n",
       "availability_365                  0\n",
       "bedrooms                          0\n",
       "bathrooms                         0\n",
       "dtype: int64"
      ]
     },
     "execution_count": 30,
     "metadata": {},
     "output_type": "execute_result"
    }
   ],
   "source": [
    "listings.isna().sum()"
   ]
  },
  {
   "cell_type": "markdown",
   "id": "b8efbdfe-abe5-47fa-82ff-5bc062119731",
   "metadata": {},
   "source": [
    "**Conclusiones**\n",
    "- Se ha intentado imputar los nulos agrupando por distrito y tipo de habitacion con el precio medio pero las estimaciones no eran sufcientemente buenas por lo que se ha decidido eliminar los nulos en la variable precio. \n",
    "\n",
    "- El numero de habitaciones con valores nulos hacen referencia a Studios por lo que imputamos los valores nulos de las habitaciones por 1 habitación. \n",
    "\n",
    "- De los 197 nulos en baños, sabemos que 137 son aseos o \"half baths\" por lo que imputaremos esos nulos por 0.5.\n",
    "\n",
    "- Los nulos restantes en la variable barthrooms los imputamos por 0, ya que corresponden a habitaciones sin baño. "
   ]
  },
  {
   "cell_type": "markdown",
   "id": "1c348866-91ab-4208-80b7-373e5fed60df",
   "metadata": {},
   "source": [
    "#### Analis de duplicados"
   ]
  },
  {
   "cell_type": "code",
   "execution_count": 31,
   "id": "ad0847e6-1288-460b-a527-e84c39c7fd3c",
   "metadata": {},
   "outputs": [
    {
     "data": {
      "text/plain": [
       "0"
      ]
     },
     "execution_count": 31,
     "metadata": {},
     "output_type": "execute_result"
    }
   ],
   "source": [
    "listings.duplicated().sum()"
   ]
  },
  {
   "cell_type": "markdown",
   "id": "8069bfd1-5eb2-4ad2-8d71-d18dfffbc035",
   "metadata": {},
   "source": [
    "#### Analisis de variables categóricas "
   ]
  },
  {
   "cell_type": "code",
   "execution_count": 32,
   "id": "abca1f20-5568-480b-a16b-6b389a7f63a5",
   "metadata": {},
   "outputs": [
    {
     "data": {
      "text/plain": [
       "neighbourhood_group\n",
       "Centro                   9423\n",
       "Salamanca                1471\n",
       "Chamberí                 1448\n",
       "Tetuán                   1221\n",
       "Arganzuela               1026\n",
       "Carabanchel               790\n",
       "Retiro                    749\n",
       "Ciudad Lineal             693\n",
       "Chamartín                 654\n",
       "Puente de Vallecas        621\n",
       "Latina                    586\n",
       "Usera                     575\n",
       "Moncloa - Aravaca         516\n",
       "Hortaleza                 466\n",
       "San Blas - Canillejas     459\n",
       "Fuencarral - El Pardo     307\n",
       "Villaverde                228\n",
       "Moratalaz                 157\n",
       "Barajas                   147\n",
       "Villa de Vallecas         104\n",
       "Vicálvaro                  78\n",
       "Name: count, dtype: int64"
      ]
     },
     "execution_count": 32,
     "metadata": {},
     "output_type": "execute_result"
    }
   ],
   "source": [
    "listings.neighbourhood_group.value_counts()"
   ]
  },
  {
   "cell_type": "code",
   "execution_count": 33,
   "id": "645e8c04-594b-42d8-9e59-56ccc813b63a",
   "metadata": {},
   "outputs": [
    {
     "data": {
      "text/plain": [
       "neighbourhood\n",
       "Embajadores    2537\n",
       "Universidad    2020\n",
       "Palacio        1618\n",
       "Sol            1188\n",
       "Justicia       1098\n",
       "               ... \n",
       "Aeropuerto        8\n",
       "Palomas           8\n",
       "Amposta           8\n",
       "Valdemarín        8\n",
       "El Pardo          4\n",
       "Name: count, Length: 125, dtype: int64"
      ]
     },
     "execution_count": 33,
     "metadata": {},
     "output_type": "execute_result"
    }
   ],
   "source": [
    "listings.neighbourhood.value_counts()"
   ]
  },
  {
   "cell_type": "code",
   "execution_count": 34,
   "id": "c2036304-4529-4b16-ad88-5fa85b323f90",
   "metadata": {},
   "outputs": [
    {
     "data": {
      "text/plain": [
       "room_type\n",
       "Entire home/apt    13217\n",
       "Private room        6588\n",
       "Studio              1490\n",
       "Shared room          333\n",
       "Hotel room            91\n",
       "Name: count, dtype: int64"
      ]
     },
     "execution_count": 34,
     "metadata": {},
     "output_type": "execute_result"
    }
   ],
   "source": [
    "listings.room_type.value_counts()"
   ]
  },
  {
   "cell_type": "markdown",
   "id": "49ca258a-db71-416f-ae2e-0ca86802275b",
   "metadata": {},
   "source": [
    "- No nos interesen los hoteles para el proyecto, estamos buscando inmuebles para comprar y luego poner en alquiler por lo que las habitaciones de hotel es mejor no tenerlas en cuenta"
   ]
  },
  {
   "cell_type": "code",
   "execution_count": 35,
   "id": "70ba92c1-9e04-47f7-91f7-fd7366eb4081",
   "metadata": {},
   "outputs": [],
   "source": [
    "listings = listings.loc[listings.room_type !=\"Hotel room\"]"
   ]
  },
  {
   "cell_type": "markdown",
   "id": "406400cc-d570-47f8-90ad-e2c81d976aba",
   "metadata": {},
   "source": [
    "#### Analisis variables numericas"
   ]
  },
  {
   "cell_type": "code",
   "execution_count": 36,
   "id": "38ebfb1a-bb78-4823-9b94-15d67c95e9b0",
   "metadata": {},
   "outputs": [
    {
     "name": "stdout",
     "output_type": "stream",
     "text": [
      "<class 'pandas.core.frame.DataFrame'>\n",
      "Index: 21628 entries, 0 to 25542\n",
      "Data columns (total 10 columns):\n",
      " #   Column                          Non-Null Count  Dtype  \n",
      "---  ------                          --------------  -----  \n",
      " 0   id                              21628 non-null  int64  \n",
      " 1   host_id                         21628 non-null  int64  \n",
      " 2   latitude                        21628 non-null  float64\n",
      " 3   longitude                       21628 non-null  float64\n",
      " 4   price                           21628 non-null  float64\n",
      " 5   minimum_nights                  21628 non-null  int64  \n",
      " 6   calculated_host_listings_count  21628 non-null  int64  \n",
      " 7   availability_365                21628 non-null  int64  \n",
      " 8   bedrooms                        21628 non-null  float64\n",
      " 9   bathrooms                       21628 non-null  float64\n",
      "dtypes: float64(5), int64(5)\n",
      "memory usage: 1.8 MB\n"
     ]
    }
   ],
   "source": [
    "listings.select_dtypes(\"number\").info()"
   ]
  },
  {
   "cell_type": "code",
   "execution_count": 37,
   "id": "58a7da6a-a5b1-4064-8fcc-74f756b8a500",
   "metadata": {},
   "outputs": [
    {
     "data": {
      "text/html": [
       "<div>\n",
       "<style scoped>\n",
       "    .dataframe tbody tr th:only-of-type {\n",
       "        vertical-align: middle;\n",
       "    }\n",
       "\n",
       "    .dataframe tbody tr th {\n",
       "        vertical-align: top;\n",
       "    }\n",
       "\n",
       "    .dataframe thead th {\n",
       "        text-align: right;\n",
       "    }\n",
       "</style>\n",
       "<table border=\"1\" class=\"dataframe\">\n",
       "  <thead>\n",
       "    <tr style=\"text-align: right;\">\n",
       "      <th></th>\n",
       "      <th>count</th>\n",
       "      <th>mean</th>\n",
       "      <th>std</th>\n",
       "      <th>min</th>\n",
       "      <th>25%</th>\n",
       "      <th>50%</th>\n",
       "      <th>75%</th>\n",
       "      <th>max</th>\n",
       "    </tr>\n",
       "  </thead>\n",
       "  <tbody>\n",
       "    <tr>\n",
       "      <th>price</th>\n",
       "      <td>21628.0</td>\n",
       "      <td>128.658544</td>\n",
       "      <td>270.552656</td>\n",
       "      <td>8.0</td>\n",
       "      <td>59.0</td>\n",
       "      <td>90.0</td>\n",
       "      <td>137.0</td>\n",
       "      <td>21000.0</td>\n",
       "    </tr>\n",
       "    <tr>\n",
       "      <th>minimum_nights</th>\n",
       "      <td>21628.0</td>\n",
       "      <td>8.103200</td>\n",
       "      <td>35.177367</td>\n",
       "      <td>1.0</td>\n",
       "      <td>1.0</td>\n",
       "      <td>2.0</td>\n",
       "      <td>3.0</td>\n",
       "      <td>1125.0</td>\n",
       "    </tr>\n",
       "    <tr>\n",
       "      <th>calculated_host_listings_count</th>\n",
       "      <td>21628.0</td>\n",
       "      <td>28.522286</td>\n",
       "      <td>62.036843</td>\n",
       "      <td>1.0</td>\n",
       "      <td>1.0</td>\n",
       "      <td>3.0</td>\n",
       "      <td>18.0</td>\n",
       "      <td>291.0</td>\n",
       "    </tr>\n",
       "    <tr>\n",
       "      <th>availability_365</th>\n",
       "      <td>21628.0</td>\n",
       "      <td>173.087895</td>\n",
       "      <td>134.369444</td>\n",
       "      <td>0.0</td>\n",
       "      <td>31.0</td>\n",
       "      <td>170.0</td>\n",
       "      <td>313.0</td>\n",
       "      <td>365.0</td>\n",
       "    </tr>\n",
       "    <tr>\n",
       "      <th>bedrooms</th>\n",
       "      <td>21628.0</td>\n",
       "      <td>1.458665</td>\n",
       "      <td>0.873198</td>\n",
       "      <td>1.0</td>\n",
       "      <td>1.0</td>\n",
       "      <td>1.0</td>\n",
       "      <td>2.0</td>\n",
       "      <td>25.0</td>\n",
       "    </tr>\n",
       "    <tr>\n",
       "      <th>bathrooms</th>\n",
       "      <td>21628.0</td>\n",
       "      <td>1.305276</td>\n",
       "      <td>0.653468</td>\n",
       "      <td>0.0</td>\n",
       "      <td>1.0</td>\n",
       "      <td>1.0</td>\n",
       "      <td>1.5</td>\n",
       "      <td>10.0</td>\n",
       "    </tr>\n",
       "  </tbody>\n",
       "</table>\n",
       "</div>"
      ],
      "text/plain": [
       "                                  count        mean         std  min   25%  \\\n",
       "price                           21628.0  128.658544  270.552656  8.0  59.0   \n",
       "minimum_nights                  21628.0    8.103200   35.177367  1.0   1.0   \n",
       "calculated_host_listings_count  21628.0   28.522286   62.036843  1.0   1.0   \n",
       "availability_365                21628.0  173.087895  134.369444  0.0  31.0   \n",
       "bedrooms                        21628.0    1.458665    0.873198  1.0   1.0   \n",
       "bathrooms                       21628.0    1.305276    0.653468  0.0   1.0   \n",
       "\n",
       "                                  50%    75%      max  \n",
       "price                            90.0  137.0  21000.0  \n",
       "minimum_nights                    2.0    3.0   1125.0  \n",
       "calculated_host_listings_count    3.0   18.0    291.0  \n",
       "availability_365                170.0  313.0    365.0  \n",
       "bedrooms                          1.0    2.0     25.0  \n",
       "bathrooms                         1.0    1.5     10.0  "
      ]
     },
     "execution_count": 37,
     "metadata": {},
     "output_type": "execute_result"
    }
   ],
   "source": [
    "listings.iloc[:, 8:14].describe().T"
   ]
  },
  {
   "cell_type": "markdown",
   "id": "d7dd5b35-1243-475e-8fef-a6e2748bfdf4",
   "metadata": {},
   "source": [
    "- Price, minimun_nights y calculated_host_listings_count tienen valores elevados en sus medias, si nos fijamos en las deviaciones tipicas de estas variables son tambien muy elevadas por lo que es probable que estas medias esten afectadas por datos atipicos. \n",
    "- El precio maximo por habitacion es muy elevado por lo que posteriormente lo analizaremos. \n",
    "- La mayoría de las viviendas tienen alrededor de 1 a 2 habitaciones y 1 a 1.5 baños, según nuestros datos. "
   ]
  },
  {
   "cell_type": "markdown",
   "id": "7c0b6f3a-b6f2-4a9d-9b2b-bd8be19436e4",
   "metadata": {},
   "source": [
    "**Analisis del precio**"
   ]
  },
  {
   "cell_type": "code",
   "execution_count": 38,
   "id": "2a5f0c71-4210-4146-bc57-969c587a1c17",
   "metadata": {},
   "outputs": [
    {
     "data": {
      "text/plain": [
       "<Axes: ylabel='Density'>"
      ]
     },
     "execution_count": 38,
     "metadata": {},
     "output_type": "execute_result"
    },
    {
     "data": {
      "image/png": "[encoded data removed]",
      "text/plain": [
       "<Figure size 640x480 with 1 Axes>"
      ]
     },
     "metadata": {},
     "output_type": "display_data"
    }
   ],
   "source": [
    "listings.price.plot.kde()"
   ]
  },
  {
   "cell_type": "markdown",
   "id": "90b66bad-cc07-4211-a1d2-6e7f6c14bdaf",
   "metadata": {},
   "source": [
    "- Revisamos los máximos"
   ]
  },
  {
   "cell_type": "code",
   "execution_count": 39,
   "id": "15c271db-8af9-4d8e-98a9-6ba8a7a49cf7",
   "metadata": {},
   "outputs": [
    {
     "data": {
      "image/png": "[encoded data removed]",
      "text/plain": [
       "<Figure size 1600x800 with 1 Axes>"
      ]
     },
     "metadata": {},
     "output_type": "display_data"
    }
   ],
   "source": [
    "plt.figure(figsize=(16,8))\n",
    "listings.price.loc[listings.price>1000].value_counts().sort_index().plot.bar()\n",
    "plt.xticks(size=12);"
   ]
  },
  {
   "cell_type": "markdown",
   "id": "90a0e17b-07e4-4132-828a-064af451e179",
   "metadata": {},
   "source": [
    "- Revisamos los mínimos"
   ]
  },
  {
   "cell_type": "code",
   "execution_count": 40,
   "id": "5c20ac50-bb67-461b-ab2b-3eb9ccc72361",
   "metadata": {},
   "outputs": [
    {
     "data": {
      "image/png": "[encoded data removed]",
      "text/plain": [
       "<Figure size 1600x800 with 1 Axes>"
      ]
     },
     "metadata": {},
     "output_type": "display_data"
    }
   ],
   "source": [
    "plt.figure(figsize=(16,8))\n",
    "listings.price.loc[listings.price<30].value_counts().sort_index().plot.bar()\n",
    "plt.xticks(size=12);"
   ]
  },
  {
   "cell_type": "markdown",
   "id": "37b93543-4d59-4bee-ad63-798c1f550d9a",
   "metadata": {},
   "source": [
    "- Descartamos los inmuebles que se alquilen por debajo de 20€ la noche"
   ]
  },
  {
   "cell_type": "code",
   "execution_count": 41,
   "id": "a1b825eb-6498-420b-a16e-7179a3ab0135",
   "metadata": {},
   "outputs": [],
   "source": [
    "listings = listings.loc[listings.price>19]\n"
   ]
  },
  {
   "cell_type": "markdown",
   "id": "64d35a79-9b43-4610-884b-ae34f5bb98ca",
   "metadata": {},
   "source": [
    "**Analisis del numero de habitaciones**"
   ]
  },
  {
   "cell_type": "code",
   "execution_count": 42,
   "id": "79fc2ee6-705c-4706-8b37-78a9674a2fd4",
   "metadata": {},
   "outputs": [
    {
     "data": {
      "image/png": "[encoded data removed]",
      "text/plain": [
       "<Figure size 640x480 with 1 Axes>"
      ]
     },
     "metadata": {},
     "output_type": "display_data"
    }
   ],
   "source": [
    "listings.bedrooms.value_counts().sort_values(ascending=False).plot.bar();"
   ]
  },
  {
   "cell_type": "code",
   "execution_count": 43,
   "id": "23efbd79-ef23-4c41-88fa-10fd172d74f6",
   "metadata": {},
   "outputs": [
    {
     "data": {
      "image/png": "[encoded data removed]",
      "text/plain": [
       "<Figure size 640x480 with 1 Axes>"
      ]
     },
     "metadata": {},
     "output_type": "display_data"
    }
   ],
   "source": [
    "listings.loc[listings.bedrooms > 5].bedrooms.value_counts().sort_values(ascending=False).plot.bar();"
   ]
  },
  {
   "cell_type": "markdown",
   "id": "32a547e1-59ff-4f2b-b97d-f3c7a2f1d67d",
   "metadata": {},
   "source": [
    "**Analisis del numero de baños**"
   ]
  },
  {
   "cell_type": "code",
   "execution_count": 44,
   "id": "d1b7d39e-92f2-49e3-8c7c-ecd0ca369f11",
   "metadata": {},
   "outputs": [
    {
     "data": {
      "text/plain": [
       "<Axes: xlabel='bathrooms'>"
      ]
     },
     "execution_count": 44,
     "metadata": {},
     "output_type": "execute_result"
    },
    {
     "data": {
      "image/png": "[encoded data removed]",
      "text/plain": [
       "<Figure size 640x480 with 1 Axes>"
      ]
     },
     "metadata": {},
     "output_type": "display_data"
    }
   ],
   "source": [
    "listings.bathrooms.value_counts().sort_index().plot.bar()"
   ]
  },
  {
   "cell_type": "markdown",
   "id": "9ec38d88-60e2-4443-b75f-1ad87ff910ae",
   "metadata": {},
   "source": [
    "### Tabla listings detalle"
   ]
  },
  {
   "cell_type": "code",
   "execution_count": 45,
   "id": "2613116f-29f9-4679-9601-ea454f6c6a25",
   "metadata": {},
   "outputs": [
    {
     "data": {
      "text/html": [
       "<div>\n",
       "<style scoped>\n",
       "    .dataframe tbody tr th:only-of-type {\n",
       "        vertical-align: middle;\n",
       "    }\n",
       "\n",
       "    .dataframe tbody tr th {\n",
       "        vertical-align: top;\n",
       "    }\n",
       "\n",
       "    .dataframe thead th {\n",
       "        text-align: right;\n",
       "    }\n",
       "</style>\n",
       "<table border=\"1\" class=\"dataframe\">\n",
       "  <thead>\n",
       "    <tr style=\"text-align: right;\">\n",
       "      <th></th>\n",
       "      <th>index</th>\n",
       "      <th>id</th>\n",
       "      <th>listing_url</th>\n",
       "      <th>scrape_id</th>\n",
       "      <th>last_scraped</th>\n",
       "      <th>source</th>\n",
       "      <th>name</th>\n",
       "      <th>description</th>\n",
       "      <th>neighborhood_overview</th>\n",
       "      <th>picture_url</th>\n",
       "      <th>host_id</th>\n",
       "      <th>host_url</th>\n",
       "      <th>host_name</th>\n",
       "      <th>host_since</th>\n",
       "      <th>host_location</th>\n",
       "      <th>host_about</th>\n",
       "      <th>host_response_time</th>\n",
       "      <th>host_response_rate</th>\n",
       "      <th>host_acceptance_rate</th>\n",
       "      <th>host_is_superhost</th>\n",
       "      <th>host_thumbnail_url</th>\n",
       "      <th>host_picture_url</th>\n",
       "      <th>host_neighbourhood</th>\n",
       "      <th>host_listings_count</th>\n",
       "      <th>host_total_listings_count</th>\n",
       "      <th>host_verifications</th>\n",
       "      <th>host_has_profile_pic</th>\n",
       "      <th>host_identity_verified</th>\n",
       "      <th>neighbourhood</th>\n",
       "      <th>neighbourhood_cleansed</th>\n",
       "      <th>neighbourhood_group_cleansed</th>\n",
       "      <th>latitude</th>\n",
       "      <th>longitude</th>\n",
       "      <th>property_type</th>\n",
       "      <th>room_type</th>\n",
       "      <th>accommodates</th>\n",
       "      <th>bathrooms</th>\n",
       "      <th>bathrooms_text</th>\n",
       "      <th>bedrooms</th>\n",
       "      <th>beds</th>\n",
       "      <th>amenities</th>\n",
       "      <th>price</th>\n",
       "      <th>minimum_nights</th>\n",
       "      <th>maximum_nights</th>\n",
       "      <th>minimum_minimum_nights</th>\n",
       "      <th>maximum_minimum_nights</th>\n",
       "      <th>minimum_maximum_nights</th>\n",
       "      <th>maximum_maximum_nights</th>\n",
       "      <th>minimum_nights_avg_ntm</th>\n",
       "      <th>maximum_nights_avg_ntm</th>\n",
       "      <th>calendar_updated</th>\n",
       "      <th>has_availability</th>\n",
       "      <th>availability_30</th>\n",
       "      <th>availability_60</th>\n",
       "      <th>availability_90</th>\n",
       "      <th>availability_365</th>\n",
       "      <th>calendar_last_scraped</th>\n",
       "      <th>number_of_reviews</th>\n",
       "      <th>number_of_reviews_ltm</th>\n",
       "      <th>number_of_reviews_l30d</th>\n",
       "      <th>first_review</th>\n",
       "      <th>last_review</th>\n",
       "      <th>review_scores_rating</th>\n",
       "      <th>review_scores_accuracy</th>\n",
       "      <th>review_scores_cleanliness</th>\n",
       "      <th>review_scores_checkin</th>\n",
       "      <th>review_scores_communication</th>\n",
       "      <th>review_scores_location</th>\n",
       "      <th>review_scores_value</th>\n",
       "      <th>license</th>\n",
       "      <th>instant_bookable</th>\n",
       "      <th>calculated_host_listings_count</th>\n",
       "      <th>calculated_host_listings_count_entire_homes</th>\n",
       "      <th>calculated_host_listings_count_private_rooms</th>\n",
       "      <th>calculated_host_listings_count_shared_rooms</th>\n",
       "      <th>reviews_per_month</th>\n",
       "    </tr>\n",
       "  </thead>\n",
       "  <tbody>\n",
       "    <tr>\n",
       "      <th>0</th>\n",
       "      <td>0</td>\n",
       "      <td>6369</td>\n",
       "      <td>https://www.airbnb.com/rooms/6369</td>\n",
       "      <td>20231215032748</td>\n",
       "      <td>2023-12-15</td>\n",
       "      <td>city scrape</td>\n",
       "      <td>Rental unit in Madrid · ★4.88 · 1 bedroom · 1 ...</td>\n",
       "      <td>NaN</td>\n",
       "      <td>None</td>\n",
       "      <td>https://a0.muscache.com/pictures/683224/4cc318...</td>\n",
       "      <td>13660</td>\n",
       "      <td>https://www.airbnb.com/users/show/13660</td>\n",
       "      <td>Simon</td>\n",
       "      <td>2009-04-16</td>\n",
       "      <td>Madrid, Spain</td>\n",
       "      <td>Gay couple, heterofriendly, enjoy having guest...</td>\n",
       "      <td>within an hour</td>\n",
       "      <td>100%</td>\n",
       "      <td>78%</td>\n",
       "      <td>t</td>\n",
       "      <td>https://a0.muscache.com/im/pictures/user/79a63...</td>\n",
       "      <td>https://a0.muscache.com/im/pictures/user/79a63...</td>\n",
       "      <td>Hispanoamérica</td>\n",
       "      <td>1.0</td>\n",
       "      <td>1.0</td>\n",
       "      <td>['email', 'phone']</td>\n",
       "      <td>t</td>\n",
       "      <td>t</td>\n",
       "      <td>None</td>\n",
       "      <td>Hispanoamérica</td>\n",
       "      <td>Chamartín</td>\n",
       "      <td>40.45724</td>\n",
       "      <td>-3.67688</td>\n",
       "      <td>Private room in rental unit</td>\n",
       "      <td>Private room</td>\n",
       "      <td>2</td>\n",
       "      <td>NaN</td>\n",
       "      <td>1 private bath</td>\n",
       "      <td>NaN</td>\n",
       "      <td>1.0</td>\n",
       "      <td>[]</td>\n",
       "      <td>$85.00</td>\n",
       "      <td>5</td>\n",
       "      <td>1125</td>\n",
       "      <td>3</td>\n",
       "      <td>5</td>\n",
       "      <td>1125</td>\n",
       "      <td>1125</td>\n",
       "      <td>5.0</td>\n",
       "      <td>1125.0</td>\n",
       "      <td>NaN</td>\n",
       "      <td>t</td>\n",
       "      <td>8</td>\n",
       "      <td>11</td>\n",
       "      <td>11</td>\n",
       "      <td>22</td>\n",
       "      <td>2023-12-15</td>\n",
       "      <td>106</td>\n",
       "      <td>4</td>\n",
       "      <td>0</td>\n",
       "      <td>2010-03-14</td>\n",
       "      <td>2023-10-16</td>\n",
       "      <td>4.88</td>\n",
       "      <td>4.91</td>\n",
       "      <td>4.84</td>\n",
       "      <td>4.78</td>\n",
       "      <td>4.86</td>\n",
       "      <td>4.84</td>\n",
       "      <td>4.86</td>\n",
       "      <td>None</td>\n",
       "      <td>f</td>\n",
       "      <td>1</td>\n",
       "      <td>0</td>\n",
       "      <td>1</td>\n",
       "      <td>0</td>\n",
       "      <td>0.63</td>\n",
       "    </tr>\n",
       "    <tr>\n",
       "      <th>1</th>\n",
       "      <td>1</td>\n",
       "      <td>21853</td>\n",
       "      <td>https://www.airbnb.com/rooms/21853</td>\n",
       "      <td>20231215032748</td>\n",
       "      <td>2023-12-15</td>\n",
       "      <td>city scrape</td>\n",
       "      <td>Rental unit in Madrid · ★4.58 · 1 bedroom · 1 ...</td>\n",
       "      <td>NaN</td>\n",
       "      <td>We live in a leafy neighbourhood with plenty o...</td>\n",
       "      <td>https://a0.muscache.com/pictures/68483181/87bc...</td>\n",
       "      <td>83531</td>\n",
       "      <td>https://www.airbnb.com/users/show/83531</td>\n",
       "      <td>Abdel</td>\n",
       "      <td>2010-02-21</td>\n",
       "      <td>Madrid, Spain</td>\n",
       "      <td>EN-ES-FR\\r\\nEN\\r\\nHi everybody: I'm Abdel. I'm...</td>\n",
       "      <td>None</td>\n",
       "      <td>None</td>\n",
       "      <td>0%</td>\n",
       "      <td>f</td>\n",
       "      <td>https://a0.muscache.com/im/users/83531/profile...</td>\n",
       "      <td>https://a0.muscache.com/im/users/83531/profile...</td>\n",
       "      <td>Aluche</td>\n",
       "      <td>2.0</td>\n",
       "      <td>2.0</td>\n",
       "      <td>['email', 'phone']</td>\n",
       "      <td>t</td>\n",
       "      <td>t</td>\n",
       "      <td>Madrid, Spain</td>\n",
       "      <td>Cármenes</td>\n",
       "      <td>Latina</td>\n",
       "      <td>40.40381</td>\n",
       "      <td>-3.74130</td>\n",
       "      <td>Private room in rental unit</td>\n",
       "      <td>Private room</td>\n",
       "      <td>1</td>\n",
       "      <td>NaN</td>\n",
       "      <td>1 bath</td>\n",
       "      <td>NaN</td>\n",
       "      <td>1.0</td>\n",
       "      <td>[]</td>\n",
       "      <td>$31.00</td>\n",
       "      <td>4</td>\n",
       "      <td>40</td>\n",
       "      <td>4</td>\n",
       "      <td>4</td>\n",
       "      <td>40</td>\n",
       "      <td>40</td>\n",
       "      <td>4.0</td>\n",
       "      <td>40.0</td>\n",
       "      <td>NaN</td>\n",
       "      <td>t</td>\n",
       "      <td>0</td>\n",
       "      <td>0</td>\n",
       "      <td>0</td>\n",
       "      <td>135</td>\n",
       "      <td>2023-12-15</td>\n",
       "      <td>33</td>\n",
       "      <td>0</td>\n",
       "      <td>0</td>\n",
       "      <td>2014-10-10</td>\n",
       "      <td>2018-07-15</td>\n",
       "      <td>4.58</td>\n",
       "      <td>4.72</td>\n",
       "      <td>4.56</td>\n",
       "      <td>4.75</td>\n",
       "      <td>4.82</td>\n",
       "      <td>4.21</td>\n",
       "      <td>4.67</td>\n",
       "      <td>None</td>\n",
       "      <td>f</td>\n",
       "      <td>2</td>\n",
       "      <td>0</td>\n",
       "      <td>2</td>\n",
       "      <td>0</td>\n",
       "      <td>0.30</td>\n",
       "    </tr>\n",
       "    <tr>\n",
       "      <th>2</th>\n",
       "      <td>2</td>\n",
       "      <td>24805</td>\n",
       "      <td>https://www.airbnb.com/rooms/24805</td>\n",
       "      <td>20231215032748</td>\n",
       "      <td>2023-12-15</td>\n",
       "      <td>city scrape</td>\n",
       "      <td>Rental unit in Madrid · ★4.91 · 6 bedrooms · 1...</td>\n",
       "      <td>NaN</td>\n",
       "      <td>The area is next to the Gran Via, so people li...</td>\n",
       "      <td>https://a0.muscache.com/pictures/miso/Hosting-...</td>\n",
       "      <td>346366726</td>\n",
       "      <td>https://www.airbnb.com/users/show/346366726</td>\n",
       "      <td>Alvaro</td>\n",
       "      <td>2020-05-15</td>\n",
       "      <td>None</td>\n",
       "      <td>None</td>\n",
       "      <td>None</td>\n",
       "      <td>None</td>\n",
       "      <td>None</td>\n",
       "      <td>f</td>\n",
       "      <td>https://a0.muscache.com/im/pictures/user/d3167...</td>\n",
       "      <td>https://a0.muscache.com/im/pictures/user/d3167...</td>\n",
       "      <td>None</td>\n",
       "      <td>1.0</td>\n",
       "      <td>1.0</td>\n",
       "      <td>['email', 'phone']</td>\n",
       "      <td>t</td>\n",
       "      <td>t</td>\n",
       "      <td>Madrid, Spain</td>\n",
       "      <td>Universidad</td>\n",
       "      <td>Centro</td>\n",
       "      <td>40.42183</td>\n",
       "      <td>-3.70529</td>\n",
       "      <td>Entire rental unit</td>\n",
       "      <td>Entire home/apt</td>\n",
       "      <td>3</td>\n",
       "      <td>NaN</td>\n",
       "      <td>1 bath</td>\n",
       "      <td>NaN</td>\n",
       "      <td>1.0</td>\n",
       "      <td>[]</td>\n",
       "      <td>$94.00</td>\n",
       "      <td>5</td>\n",
       "      <td>1125</td>\n",
       "      <td>5</td>\n",
       "      <td>5</td>\n",
       "      <td>1125</td>\n",
       "      <td>1125</td>\n",
       "      <td>5.0</td>\n",
       "      <td>1125.0</td>\n",
       "      <td>NaN</td>\n",
       "      <td>t</td>\n",
       "      <td>18</td>\n",
       "      <td>48</td>\n",
       "      <td>78</td>\n",
       "      <td>168</td>\n",
       "      <td>2023-12-15</td>\n",
       "      <td>33</td>\n",
       "      <td>8</td>\n",
       "      <td>0</td>\n",
       "      <td>2014-11-29</td>\n",
       "      <td>2023-11-06</td>\n",
       "      <td>4.91</td>\n",
       "      <td>4.91</td>\n",
       "      <td>4.85</td>\n",
       "      <td>5.00</td>\n",
       "      <td>4.97</td>\n",
       "      <td>5.00</td>\n",
       "      <td>4.76</td>\n",
       "      <td>None</td>\n",
       "      <td>f</td>\n",
       "      <td>1</td>\n",
       "      <td>1</td>\n",
       "      <td>0</td>\n",
       "      <td>0</td>\n",
       "      <td>0.30</td>\n",
       "    </tr>\n",
       "    <tr>\n",
       "      <th>3</th>\n",
       "      <td>3</td>\n",
       "      <td>26825</td>\n",
       "      <td>https://www.airbnb.com/rooms/26825</td>\n",
       "      <td>20231215032748</td>\n",
       "      <td>2023-12-15</td>\n",
       "      <td>city scrape</td>\n",
       "      <td>Home in Madrid · ★4.72 · 1 bedroom · 1 bed · 1...</td>\n",
       "      <td>NaN</td>\n",
       "      <td>Es un barrio muy tranquilo, en una zona de Mad...</td>\n",
       "      <td>https://a0.muscache.com/pictures/149358/218d5b...</td>\n",
       "      <td>114340</td>\n",
       "      <td>https://www.airbnb.com/users/show/114340</td>\n",
       "      <td>Maria</td>\n",
       "      <td>2010-04-27</td>\n",
       "      <td>Madrid, Spain</td>\n",
       "      <td>I like Fine art, Photography, Cinema, travel a...</td>\n",
       "      <td>a few days or more</td>\n",
       "      <td>0%</td>\n",
       "      <td>82%</td>\n",
       "      <td>t</td>\n",
       "      <td>https://a0.muscache.com/im/pictures/user/User-...</td>\n",
       "      <td>https://a0.muscache.com/im/pictures/user/User-...</td>\n",
       "      <td>Legazpi</td>\n",
       "      <td>1.0</td>\n",
       "      <td>4.0</td>\n",
       "      <td>['email', 'phone']</td>\n",
       "      <td>t</td>\n",
       "      <td>t</td>\n",
       "      <td>Madrid, Comunidad de Madrid, Spain</td>\n",
       "      <td>Legazpi</td>\n",
       "      <td>Arganzuela</td>\n",
       "      <td>40.38975</td>\n",
       "      <td>-3.69018</td>\n",
       "      <td>Private room in home</td>\n",
       "      <td>Private room</td>\n",
       "      <td>1</td>\n",
       "      <td>NaN</td>\n",
       "      <td>1.5 baths</td>\n",
       "      <td>NaN</td>\n",
       "      <td>1.0</td>\n",
       "      <td>[]</td>\n",
       "      <td>$29.00</td>\n",
       "      <td>3</td>\n",
       "      <td>1125</td>\n",
       "      <td>3</td>\n",
       "      <td>3</td>\n",
       "      <td>1125</td>\n",
       "      <td>1125</td>\n",
       "      <td>3.0</td>\n",
       "      <td>1125.0</td>\n",
       "      <td>NaN</td>\n",
       "      <td>t</td>\n",
       "      <td>7</td>\n",
       "      <td>7</td>\n",
       "      <td>20</td>\n",
       "      <td>295</td>\n",
       "      <td>2023-12-15</td>\n",
       "      <td>196</td>\n",
       "      <td>22</td>\n",
       "      <td>0</td>\n",
       "      <td>2010-05-10</td>\n",
       "      <td>2023-06-20</td>\n",
       "      <td>4.72</td>\n",
       "      <td>4.82</td>\n",
       "      <td>4.92</td>\n",
       "      <td>4.79</td>\n",
       "      <td>4.72</td>\n",
       "      <td>4.73</td>\n",
       "      <td>4.77</td>\n",
       "      <td>None</td>\n",
       "      <td>f</td>\n",
       "      <td>1</td>\n",
       "      <td>0</td>\n",
       "      <td>1</td>\n",
       "      <td>0</td>\n",
       "      <td>1.18</td>\n",
       "    </tr>\n",
       "    <tr>\n",
       "      <th>4</th>\n",
       "      <td>4</td>\n",
       "      <td>30320</td>\n",
       "      <td>https://www.airbnb.com/rooms/30320</td>\n",
       "      <td>20231215032748</td>\n",
       "      <td>2023-12-15</td>\n",
       "      <td>previous scrape</td>\n",
       "      <td>Rental unit in Madrid · ★4.63 · 1 bedroom · 2 ...</td>\n",
       "      <td>NaN</td>\n",
       "      <td>None</td>\n",
       "      <td>https://a0.muscache.com/pictures/336868/f67409...</td>\n",
       "      <td>130907</td>\n",
       "      <td>https://www.airbnb.com/users/show/130907</td>\n",
       "      <td>Dana</td>\n",
       "      <td>2010-05-24</td>\n",
       "      <td>Madrid, Spain</td>\n",
       "      <td>Apartasol offers a network of several spacious...</td>\n",
       "      <td>None</td>\n",
       "      <td>None</td>\n",
       "      <td>100%</td>\n",
       "      <td>f</td>\n",
       "      <td>https://a0.muscache.com/im/users/130907/profil...</td>\n",
       "      <td>https://a0.muscache.com/im/users/130907/profil...</td>\n",
       "      <td>Sol</td>\n",
       "      <td>3.0</td>\n",
       "      <td>6.0</td>\n",
       "      <td>['email', 'phone']</td>\n",
       "      <td>t</td>\n",
       "      <td>f</td>\n",
       "      <td>None</td>\n",
       "      <td>Sol</td>\n",
       "      <td>Centro</td>\n",
       "      <td>40.41476</td>\n",
       "      <td>-3.70418</td>\n",
       "      <td>Entire rental unit</td>\n",
       "      <td>Entire home/apt</td>\n",
       "      <td>2</td>\n",
       "      <td>NaN</td>\n",
       "      <td>1 bath</td>\n",
       "      <td>NaN</td>\n",
       "      <td>2.0</td>\n",
       "      <td>[]</td>\n",
       "      <td>$65.00</td>\n",
       "      <td>5</td>\n",
       "      <td>180</td>\n",
       "      <td>5</td>\n",
       "      <td>5</td>\n",
       "      <td>180</td>\n",
       "      <td>180</td>\n",
       "      <td>5.0</td>\n",
       "      <td>180.0</td>\n",
       "      <td>NaN</td>\n",
       "      <td>t</td>\n",
       "      <td>0</td>\n",
       "      <td>0</td>\n",
       "      <td>0</td>\n",
       "      <td>0</td>\n",
       "      <td>2023-12-15</td>\n",
       "      <td>172</td>\n",
       "      <td>0</td>\n",
       "      <td>0</td>\n",
       "      <td>2010-07-06</td>\n",
       "      <td>2022-09-26</td>\n",
       "      <td>4.63</td>\n",
       "      <td>4.71</td>\n",
       "      <td>4.88</td>\n",
       "      <td>4.82</td>\n",
       "      <td>4.78</td>\n",
       "      <td>4.90</td>\n",
       "      <td>4.69</td>\n",
       "      <td>None</td>\n",
       "      <td>f</td>\n",
       "      <td>3</td>\n",
       "      <td>3</td>\n",
       "      <td>0</td>\n",
       "      <td>0</td>\n",
       "      <td>1.05</td>\n",
       "    </tr>\n",
       "  </tbody>\n",
       "</table>\n",
       "</div>"
      ],
      "text/plain": [
       "   index     id                         listing_url       scrape_id  \\\n",
       "0      0   6369   https://www.airbnb.com/rooms/6369  20231215032748   \n",
       "1      1  21853  https://www.airbnb.com/rooms/21853  20231215032748   \n",
       "2      2  24805  https://www.airbnb.com/rooms/24805  20231215032748   \n",
       "3      3  26825  https://www.airbnb.com/rooms/26825  20231215032748   \n",
       "4      4  30320  https://www.airbnb.com/rooms/30320  20231215032748   \n",
       "\n",
       "  last_scraped           source  \\\n",
       "0   2023-12-15      city scrape   \n",
       "1   2023-12-15      city scrape   \n",
       "2   2023-12-15      city scrape   \n",
       "3   2023-12-15      city scrape   \n",
       "4   2023-12-15  previous scrape   \n",
       "\n",
       "                                                name  description  \\\n",
       "0  Rental unit in Madrid · ★4.88 · 1 bedroom · 1 ...          NaN   \n",
       "1  Rental unit in Madrid · ★4.58 · 1 bedroom · 1 ...          NaN   \n",
       "2  Rental unit in Madrid · ★4.91 · 6 bedrooms · 1...          NaN   \n",
       "3  Home in Madrid · ★4.72 · 1 bedroom · 1 bed · 1...          NaN   \n",
       "4  Rental unit in Madrid · ★4.63 · 1 bedroom · 2 ...          NaN   \n",
       "\n",
       "                               neighborhood_overview  \\\n",
       "0                                               None   \n",
       "1  We live in a leafy neighbourhood with plenty o...   \n",
       "2  The area is next to the Gran Via, so people li...   \n",
       "3  Es un barrio muy tranquilo, en una zona de Mad...   \n",
       "4                                               None   \n",
       "\n",
       "                                         picture_url    host_id  \\\n",
       "0  https://a0.muscache.com/pictures/683224/4cc318...      13660   \n",
       "1  https://a0.muscache.com/pictures/68483181/87bc...      83531   \n",
       "2  https://a0.muscache.com/pictures/miso/Hosting-...  346366726   \n",
       "3  https://a0.muscache.com/pictures/149358/218d5b...     114340   \n",
       "4  https://a0.muscache.com/pictures/336868/f67409...     130907   \n",
       "\n",
       "                                      host_url host_name  host_since  \\\n",
       "0      https://www.airbnb.com/users/show/13660     Simon  2009-04-16   \n",
       "1      https://www.airbnb.com/users/show/83531     Abdel  2010-02-21   \n",
       "2  https://www.airbnb.com/users/show/346366726    Alvaro  2020-05-15   \n",
       "3     https://www.airbnb.com/users/show/114340     Maria  2010-04-27   \n",
       "4     https://www.airbnb.com/users/show/130907      Dana  2010-05-24   \n",
       "\n",
       "   host_location                                         host_about  \\\n",
       "0  Madrid, Spain  Gay couple, heterofriendly, enjoy having guest...   \n",
       "1  Madrid, Spain  EN-ES-FR\\r\\nEN\\r\\nHi everybody: I'm Abdel. I'm...   \n",
       "2           None                                               None   \n",
       "3  Madrid, Spain  I like Fine art, Photography, Cinema, travel a...   \n",
       "4  Madrid, Spain  Apartasol offers a network of several spacious...   \n",
       "\n",
       "   host_response_time host_response_rate host_acceptance_rate  \\\n",
       "0      within an hour               100%                  78%   \n",
       "1                None               None                   0%   \n",
       "2                None               None                 None   \n",
       "3  a few days or more                 0%                  82%   \n",
       "4                None               None                 100%   \n",
       "\n",
       "  host_is_superhost                                 host_thumbnail_url  \\\n",
       "0                 t  https://a0.muscache.com/im/pictures/user/79a63...   \n",
       "1                 f  https://a0.muscache.com/im/users/83531/profile...   \n",
       "2                 f  https://a0.muscache.com/im/pictures/user/d3167...   \n",
       "3                 t  https://a0.muscache.com/im/pictures/user/User-...   \n",
       "4                 f  https://a0.muscache.com/im/users/130907/profil...   \n",
       "\n",
       "                                    host_picture_url host_neighbourhood  \\\n",
       "0  https://a0.muscache.com/im/pictures/user/79a63...     Hispanoamérica   \n",
       "1  https://a0.muscache.com/im/users/83531/profile...             Aluche   \n",
       "2  https://a0.muscache.com/im/pictures/user/d3167...               None   \n",
       "3  https://a0.muscache.com/im/pictures/user/User-...            Legazpi   \n",
       "4  https://a0.muscache.com/im/users/130907/profil...                Sol   \n",
       "\n",
       "   host_listings_count  host_total_listings_count  host_verifications  \\\n",
       "0                  1.0                        1.0  ['email', 'phone']   \n",
       "1                  2.0                        2.0  ['email', 'phone']   \n",
       "2                  1.0                        1.0  ['email', 'phone']   \n",
       "3                  1.0                        4.0  ['email', 'phone']   \n",
       "4                  3.0                        6.0  ['email', 'phone']   \n",
       "\n",
       "  host_has_profile_pic host_identity_verified  \\\n",
       "0                    t                      t   \n",
       "1                    t                      t   \n",
       "2                    t                      t   \n",
       "3                    t                      t   \n",
       "4                    t                      f   \n",
       "\n",
       "                        neighbourhood neighbourhood_cleansed  \\\n",
       "0                                None         Hispanoamérica   \n",
       "1                       Madrid, Spain               Cármenes   \n",
       "2                       Madrid, Spain            Universidad   \n",
       "3  Madrid, Comunidad de Madrid, Spain                Legazpi   \n",
       "4                                None                    Sol   \n",
       "\n",
       "  neighbourhood_group_cleansed  latitude  longitude  \\\n",
       "0                    Chamartín  40.45724   -3.67688   \n",
       "1                       Latina  40.40381   -3.74130   \n",
       "2                       Centro  40.42183   -3.70529   \n",
       "3                   Arganzuela  40.38975   -3.69018   \n",
       "4                       Centro  40.41476   -3.70418   \n",
       "\n",
       "                 property_type        room_type  accommodates  bathrooms  \\\n",
       "0  Private room in rental unit     Private room             2        NaN   \n",
       "1  Private room in rental unit     Private room             1        NaN   \n",
       "2           Entire rental unit  Entire home/apt             3        NaN   \n",
       "3         Private room in home     Private room             1        NaN   \n",
       "4           Entire rental unit  Entire home/apt             2        NaN   \n",
       "\n",
       "   bathrooms_text  bedrooms  beds amenities   price  minimum_nights  \\\n",
       "0  1 private bath       NaN   1.0        []  $85.00               5   \n",
       "1          1 bath       NaN   1.0        []  $31.00               4   \n",
       "2          1 bath       NaN   1.0        []  $94.00               5   \n",
       "3       1.5 baths       NaN   1.0        []  $29.00               3   \n",
       "4          1 bath       NaN   2.0        []  $65.00               5   \n",
       "\n",
       "   maximum_nights  minimum_minimum_nights  maximum_minimum_nights  \\\n",
       "0            1125                       3                       5   \n",
       "1              40                       4                       4   \n",
       "2            1125                       5                       5   \n",
       "3            1125                       3                       3   \n",
       "4             180                       5                       5   \n",
       "\n",
       "   minimum_maximum_nights  maximum_maximum_nights  minimum_nights_avg_ntm  \\\n",
       "0                    1125                    1125                     5.0   \n",
       "1                      40                      40                     4.0   \n",
       "2                    1125                    1125                     5.0   \n",
       "3                    1125                    1125                     3.0   \n",
       "4                     180                     180                     5.0   \n",
       "\n",
       "   maximum_nights_avg_ntm  calendar_updated has_availability  availability_30  \\\n",
       "0                  1125.0               NaN                t                8   \n",
       "1                    40.0               NaN                t                0   \n",
       "2                  1125.0               NaN                t               18   \n",
       "3                  1125.0               NaN                t                7   \n",
       "4                   180.0               NaN                t                0   \n",
       "\n",
       "   availability_60  availability_90  availability_365 calendar_last_scraped  \\\n",
       "0               11               11                22            2023-12-15   \n",
       "1                0                0               135            2023-12-15   \n",
       "2               48               78               168            2023-12-15   \n",
       "3                7               20               295            2023-12-15   \n",
       "4                0                0                 0            2023-12-15   \n",
       "\n",
       "   number_of_reviews  number_of_reviews_ltm  number_of_reviews_l30d  \\\n",
       "0                106                      4                       0   \n",
       "1                 33                      0                       0   \n",
       "2                 33                      8                       0   \n",
       "3                196                     22                       0   \n",
       "4                172                      0                       0   \n",
       "\n",
       "  first_review last_review  review_scores_rating  review_scores_accuracy  \\\n",
       "0   2010-03-14  2023-10-16                  4.88                    4.91   \n",
       "1   2014-10-10  2018-07-15                  4.58                    4.72   \n",
       "2   2014-11-29  2023-11-06                  4.91                    4.91   \n",
       "3   2010-05-10  2023-06-20                  4.72                    4.82   \n",
       "4   2010-07-06  2022-09-26                  4.63                    4.71   \n",
       "\n",
       "   review_scores_cleanliness  review_scores_checkin  \\\n",
       "0                       4.84                   4.78   \n",
       "1                       4.56                   4.75   \n",
       "2                       4.85                   5.00   \n",
       "3                       4.92                   4.79   \n",
       "4                       4.88                   4.82   \n",
       "\n",
       "   review_scores_communication  review_scores_location  review_scores_value  \\\n",
       "0                         4.86                    4.84                 4.86   \n",
       "1                         4.82                    4.21                 4.67   \n",
       "2                         4.97                    5.00                 4.76   \n",
       "3                         4.72                    4.73                 4.77   \n",
       "4                         4.78                    4.90                 4.69   \n",
       "\n",
       "  license instant_bookable  calculated_host_listings_count  \\\n",
       "0    None                f                               1   \n",
       "1    None                f                               2   \n",
       "2    None                f                               1   \n",
       "3    None                f                               1   \n",
       "4    None                f                               3   \n",
       "\n",
       "   calculated_host_listings_count_entire_homes  \\\n",
       "0                                            0   \n",
       "1                                            0   \n",
       "2                                            1   \n",
       "3                                            0   \n",
       "4                                            3   \n",
       "\n",
       "   calculated_host_listings_count_private_rooms  \\\n",
       "0                                             1   \n",
       "1                                             2   \n",
       "2                                             0   \n",
       "3                                             1   \n",
       "4                                             0   \n",
       "\n",
       "   calculated_host_listings_count_shared_rooms  reviews_per_month  \n",
       "0                                            0               0.63  \n",
       "1                                            0               0.30  \n",
       "2                                            0               0.30  \n",
       "3                                            0               1.18  \n",
       "4                                            0               1.05  "
      ]
     },
     "execution_count": 45,
     "metadata": {},
     "output_type": "execute_result"
    }
   ],
   "source": [
    "pd.options.display.max_columns = None\n",
    "listings_det.head()"
   ]
  },
  {
   "cell_type": "code",
   "execution_count": 63,
   "id": "ab6036f1-8905-4804-bc55-eda453f9616c",
   "metadata": {},
   "outputs": [
    {
     "data": {
      "text/plain": [
       "Index(['id', 'name', 'host_id', 'neighbourhood_group', 'neighbourhood',\n",
       "       'latitude', 'longitude', 'room_type', 'price', 'minimum_nights',\n",
       "       'calculated_host_listings_count', 'availability_365', 'bedrooms',\n",
       "       'bathrooms'],\n",
       "      dtype='object')"
      ]
     },
     "execution_count": 63,
     "metadata": {},
     "output_type": "execute_result"
    }
   ],
   "source": [
    "listings.columns"
   ]
  },
  {
   "cell_type": "code",
   "execution_count": 64,
   "id": "fd8a5ed3-5813-4094-b33d-9dde86d7b88b",
   "metadata": {},
   "outputs": [
    {
     "data": {
      "text/plain": [
       "Index(['index', 'id', 'listing_url', 'scrape_id', 'last_scraped', 'source',\n",
       "       'name', 'description', 'neighborhood_overview', 'picture_url',\n",
       "       'host_id', 'host_url', 'host_name', 'host_since', 'host_location',\n",
       "       'host_about', 'host_response_time', 'host_response_rate',\n",
       "       'host_acceptance_rate', 'host_is_superhost', 'host_thumbnail_url',\n",
       "       'host_picture_url', 'host_neighbourhood', 'host_listings_count',\n",
       "       'host_total_listings_count', 'host_verifications',\n",
       "       'host_has_profile_pic', 'host_identity_verified', 'neighbourhood',\n",
       "       'neighbourhood_cleansed', 'neighbourhood_group_cleansed', 'latitude',\n",
       "       'longitude', 'property_type', 'room_type', 'accommodates', 'bathrooms',\n",
       "       'bathrooms_text', 'bedrooms', 'beds', 'amenities', 'price',\n",
       "       'minimum_nights', 'maximum_nights', 'minimum_minimum_nights',\n",
       "       'maximum_minimum_nights', 'minimum_maximum_nights',\n",
       "       'maximum_maximum_nights', 'minimum_nights_avg_ntm',\n",
       "       'maximum_nights_avg_ntm', 'calendar_updated', 'has_availability',\n",
       "       'availability_30', 'availability_60', 'availability_90',\n",
       "       'availability_365', 'calendar_last_scraped', 'number_of_reviews',\n",
       "       'number_of_reviews_ltm', 'number_of_reviews_l30d', 'first_review',\n",
       "       'last_review', 'review_scores_rating', 'review_scores_accuracy',\n",
       "       'review_scores_cleanliness', 'review_scores_checkin',\n",
       "       'review_scores_communication', 'review_scores_location',\n",
       "       'review_scores_value', 'license', 'instant_bookable',\n",
       "       'calculated_host_listings_count',\n",
       "       'calculated_host_listings_count_entire_homes',\n",
       "       'calculated_host_listings_count_private_rooms',\n",
       "       'calculated_host_listings_count_shared_rooms', 'reviews_per_month'],\n",
       "      dtype='object')"
      ]
     },
     "execution_count": 64,
     "metadata": {},
     "output_type": "execute_result"
    }
   ],
   "source": [
    "listings_det.columns"
   ]
  },
  {
   "cell_type": "markdown",
   "id": "5c9a3561-ef78-45da-a0ce-2b1aeccb055f",
   "metadata": {},
   "source": [
    "#### Variables y data types"
   ]
  },
  {
   "cell_type": "markdown",
   "id": "83303ec2-8383-4d0c-82d1-f0a30d905fdc",
   "metadata": {},
   "source": [
    "- Seleciconamos las variables que nos interesan para el proyecto"
   ]
  },
  {
   "cell_type": "code",
   "execution_count": 46,
   "id": "14186429-94f0-4265-b278-8dc454f9da24",
   "metadata": {},
   "outputs": [],
   "source": [
    "to_include = [\"id\",\"description\",\"host_is_superhost\",\"accommodates\", \"bathrooms\", \"bedrooms\", \"beds\", \n",
    "             \"number_of_reviews\", \"review_scores_rating\", \"review_scores_communication\", \n",
    "             \"review_scores_location\"]\n",
    "\n",
    "listings_det = listings_det.loc[:, to_include]\n"
   ]
  },
  {
   "cell_type": "markdown",
   "id": "23cbb772-fd54-4389-843f-79a93730754f",
   "metadata": {},
   "source": [
    "- Analisis de los tipos de variables. "
   ]
  },
  {
   "cell_type": "code",
   "execution_count": 47,
   "id": "c8894063-4813-4de5-987e-269fe01f4a9b",
   "metadata": {},
   "outputs": [
    {
     "name": "stdout",
     "output_type": "stream",
     "text": [
      "<class 'pandas.core.frame.DataFrame'>\n",
      "RangeIndex: 25543 entries, 0 to 25542\n",
      "Data columns (total 11 columns):\n",
      " #   Column                       Non-Null Count  Dtype  \n",
      "---  ------                       --------------  -----  \n",
      " 0   id                           25543 non-null  int64  \n",
      " 1   description                  0 non-null      float64\n",
      " 2   host_is_superhost            25363 non-null  object \n",
      " 3   accommodates                 25543 non-null  int64  \n",
      " 4   bathrooms                    0 non-null      float64\n",
      " 5   bedrooms                     0 non-null      float64\n",
      " 6   beds                         25238 non-null  float64\n",
      " 7   number_of_reviews            25543 non-null  int64  \n",
      " 8   review_scores_rating         20216 non-null  float64\n",
      " 9   review_scores_communication  20215 non-null  float64\n",
      " 10  review_scores_location       20212 non-null  float64\n",
      "dtypes: float64(7), int64(3), object(1)\n",
      "memory usage: 2.1+ MB\n"
     ]
    }
   ],
   "source": [
    "listings_det.info()"
   ]
  },
  {
   "cell_type": "code",
   "execution_count": 48,
   "id": "1bec93c2-d8ff-41f1-80f6-7ac3a35f6bd9",
   "metadata": {},
   "outputs": [],
   "source": [
    "listings_det[\"host_is_superhost\"] = listings_det[\"host_is_superhost\"].astype(\"category\")"
   ]
  },
  {
   "cell_type": "code",
   "execution_count": 49,
   "id": "b3107a03-16c8-4a62-87c7-526a6bd21106",
   "metadata": {},
   "outputs": [
    {
     "name": "stdout",
     "output_type": "stream",
     "text": [
      "<class 'pandas.core.frame.DataFrame'>\n",
      "RangeIndex: 25543 entries, 0 to 25542\n",
      "Data columns (total 11 columns):\n",
      " #   Column                       Non-Null Count  Dtype   \n",
      "---  ------                       --------------  -----   \n",
      " 0   id                           25543 non-null  int64   \n",
      " 1   description                  0 non-null      float64 \n",
      " 2   host_is_superhost            25363 non-null  category\n",
      " 3   accommodates                 25543 non-null  int64   \n",
      " 4   bathrooms                    0 non-null      float64 \n",
      " 5   bedrooms                     0 non-null      float64 \n",
      " 6   beds                         25238 non-null  float64 \n",
      " 7   number_of_reviews            25543 non-null  int64   \n",
      " 8   review_scores_rating         20216 non-null  float64 \n",
      " 9   review_scores_communication  20215 non-null  float64 \n",
      " 10  review_scores_location       20212 non-null  float64 \n",
      "dtypes: category(1), float64(7), int64(3)\n",
      "memory usage: 2.0 MB\n"
     ]
    }
   ],
   "source": [
    "listings_det.info()"
   ]
  },
  {
   "cell_type": "markdown",
   "id": "90fad5a9-7181-410b-a4b5-09d8c5f60abc",
   "metadata": {},
   "source": [
    "#### Analisis de nulos"
   ]
  },
  {
   "cell_type": "code",
   "execution_count": 50,
   "id": "6890cdff-7198-4173-b669-30c5084c3fef",
   "metadata": {},
   "outputs": [
    {
     "data": {
      "text/plain": [
       "id                                 0\n",
       "description                    25543\n",
       "host_is_superhost                180\n",
       "accommodates                       0\n",
       "bathrooms                      25543\n",
       "bedrooms                       25543\n",
       "beds                             305\n",
       "number_of_reviews                  0\n",
       "review_scores_rating            5327\n",
       "review_scores_communication     5328\n",
       "review_scores_location          5331\n",
       "dtype: int64"
      ]
     },
     "execution_count": 50,
     "metadata": {},
     "output_type": "execute_result"
    }
   ],
   "source": [
    "listings_det.isna().sum()"
   ]
  },
  {
   "cell_type": "markdown",
   "id": "3cb47861-8884-4549-9af5-36358aaad9f8",
   "metadata": {},
   "source": [
    "- En el dataset listings detallado no contiene información acerca del numero de baños y de habitaciones. Por ello hemos extraido esta informacion de la variable name del dataset de lintings. \n",
    "- La variable descripción está vacía y no aporta información"
   ]
  },
  {
   "cell_type": "markdown",
   "id": "e7c31971-e98e-4adb-b4a8-1497d0217767",
   "metadata": {},
   "source": [
    "- Intentamos imputar los nulos en el numero de camas con la variable accomodates que utilizamos como proxy, que indica el numero de personas que se aceptan en la vivienda. "
   ]
  },
  {
   "cell_type": "code",
   "execution_count": 51,
   "id": "ebe60e41-6c09-4829-9f69-4d9b23fcb974",
   "metadata": {},
   "outputs": [
    {
     "data": {
      "text/html": [
       "<div>\n",
       "<style scoped>\n",
       "    .dataframe tbody tr th:only-of-type {\n",
       "        vertical-align: middle;\n",
       "    }\n",
       "\n",
       "    .dataframe tbody tr th {\n",
       "        vertical-align: top;\n",
       "    }\n",
       "\n",
       "    .dataframe thead th {\n",
       "        text-align: right;\n",
       "    }\n",
       "</style>\n",
       "<table border=\"1\" class=\"dataframe\">\n",
       "  <thead>\n",
       "    <tr style=\"text-align: right;\">\n",
       "      <th>accommodates</th>\n",
       "      <th>1</th>\n",
       "      <th>2</th>\n",
       "      <th>3</th>\n",
       "      <th>4</th>\n",
       "      <th>5</th>\n",
       "      <th>6</th>\n",
       "      <th>7</th>\n",
       "      <th>8</th>\n",
       "      <th>9</th>\n",
       "      <th>10</th>\n",
       "      <th>11</th>\n",
       "      <th>12</th>\n",
       "      <th>13</th>\n",
       "      <th>14</th>\n",
       "      <th>15</th>\n",
       "      <th>16</th>\n",
       "    </tr>\n",
       "    <tr>\n",
       "      <th>beds</th>\n",
       "      <th></th>\n",
       "      <th></th>\n",
       "      <th></th>\n",
       "      <th></th>\n",
       "      <th></th>\n",
       "      <th></th>\n",
       "      <th></th>\n",
       "      <th></th>\n",
       "      <th></th>\n",
       "      <th></th>\n",
       "      <th></th>\n",
       "      <th></th>\n",
       "      <th></th>\n",
       "      <th></th>\n",
       "      <th></th>\n",
       "      <th></th>\n",
       "    </tr>\n",
       "  </thead>\n",
       "  <tbody>\n",
       "    <tr>\n",
       "      <th>1.0</th>\n",
       "      <td>3668</td>\n",
       "      <td>7487</td>\n",
       "      <td>553</td>\n",
       "      <td>730</td>\n",
       "      <td>21</td>\n",
       "      <td>24</td>\n",
       "      <td>2</td>\n",
       "      <td>1</td>\n",
       "      <td>0</td>\n",
       "      <td>5</td>\n",
       "      <td>0</td>\n",
       "      <td>0</td>\n",
       "      <td>0</td>\n",
       "      <td>0</td>\n",
       "      <td>0</td>\n",
       "      <td>1</td>\n",
       "    </tr>\n",
       "    <tr>\n",
       "      <th>2.0</th>\n",
       "      <td>151</td>\n",
       "      <td>1196</td>\n",
       "      <td>1651</td>\n",
       "      <td>3469</td>\n",
       "      <td>147</td>\n",
       "      <td>152</td>\n",
       "      <td>3</td>\n",
       "      <td>10</td>\n",
       "      <td>0</td>\n",
       "      <td>1</td>\n",
       "      <td>0</td>\n",
       "      <td>0</td>\n",
       "      <td>1</td>\n",
       "      <td>0</td>\n",
       "      <td>0</td>\n",
       "      <td>1</td>\n",
       "    </tr>\n",
       "    <tr>\n",
       "      <th>3.0</th>\n",
       "      <td>32</td>\n",
       "      <td>80</td>\n",
       "      <td>277</td>\n",
       "      <td>1218</td>\n",
       "      <td>565</td>\n",
       "      <td>888</td>\n",
       "      <td>35</td>\n",
       "      <td>32</td>\n",
       "      <td>0</td>\n",
       "      <td>2</td>\n",
       "      <td>0</td>\n",
       "      <td>0</td>\n",
       "      <td>0</td>\n",
       "      <td>0</td>\n",
       "      <td>0</td>\n",
       "      <td>0</td>\n",
       "    </tr>\n",
       "    <tr>\n",
       "      <th>4.0</th>\n",
       "      <td>38</td>\n",
       "      <td>39</td>\n",
       "      <td>22</td>\n",
       "      <td>282</td>\n",
       "      <td>276</td>\n",
       "      <td>654</td>\n",
       "      <td>126</td>\n",
       "      <td>187</td>\n",
       "      <td>8</td>\n",
       "      <td>4</td>\n",
       "      <td>0</td>\n",
       "      <td>1</td>\n",
       "      <td>0</td>\n",
       "      <td>0</td>\n",
       "      <td>0</td>\n",
       "      <td>0</td>\n",
       "    </tr>\n",
       "    <tr>\n",
       "      <th>5.0</th>\n",
       "      <td>10</td>\n",
       "      <td>5</td>\n",
       "      <td>3</td>\n",
       "      <td>25</td>\n",
       "      <td>68</td>\n",
       "      <td>181</td>\n",
       "      <td>91</td>\n",
       "      <td>120</td>\n",
       "      <td>22</td>\n",
       "      <td>43</td>\n",
       "      <td>1</td>\n",
       "      <td>4</td>\n",
       "      <td>0</td>\n",
       "      <td>0</td>\n",
       "      <td>0</td>\n",
       "      <td>0</td>\n",
       "    </tr>\n",
       "    <tr>\n",
       "      <th>6.0</th>\n",
       "      <td>21</td>\n",
       "      <td>4</td>\n",
       "      <td>4</td>\n",
       "      <td>5</td>\n",
       "      <td>7</td>\n",
       "      <td>65</td>\n",
       "      <td>18</td>\n",
       "      <td>86</td>\n",
       "      <td>13</td>\n",
       "      <td>34</td>\n",
       "      <td>7</td>\n",
       "      <td>15</td>\n",
       "      <td>0</td>\n",
       "      <td>2</td>\n",
       "      <td>0</td>\n",
       "      <td>0</td>\n",
       "    </tr>\n",
       "    <tr>\n",
       "      <th>7.0</th>\n",
       "      <td>2</td>\n",
       "      <td>0</td>\n",
       "      <td>0</td>\n",
       "      <td>1</td>\n",
       "      <td>1</td>\n",
       "      <td>7</td>\n",
       "      <td>10</td>\n",
       "      <td>22</td>\n",
       "      <td>17</td>\n",
       "      <td>20</td>\n",
       "      <td>3</td>\n",
       "      <td>11</td>\n",
       "      <td>1</td>\n",
       "      <td>4</td>\n",
       "      <td>0</td>\n",
       "      <td>0</td>\n",
       "    </tr>\n",
       "    <tr>\n",
       "      <th>8.0</th>\n",
       "      <td>11</td>\n",
       "      <td>8</td>\n",
       "      <td>1</td>\n",
       "      <td>1</td>\n",
       "      <td>1</td>\n",
       "      <td>4</td>\n",
       "      <td>0</td>\n",
       "      <td>20</td>\n",
       "      <td>6</td>\n",
       "      <td>20</td>\n",
       "      <td>2</td>\n",
       "      <td>10</td>\n",
       "      <td>3</td>\n",
       "      <td>2</td>\n",
       "      <td>0</td>\n",
       "      <td>1</td>\n",
       "    </tr>\n",
       "    <tr>\n",
       "      <th>9.0</th>\n",
       "      <td>0</td>\n",
       "      <td>1</td>\n",
       "      <td>0</td>\n",
       "      <td>0</td>\n",
       "      <td>0</td>\n",
       "      <td>0</td>\n",
       "      <td>0</td>\n",
       "      <td>3</td>\n",
       "      <td>5</td>\n",
       "      <td>10</td>\n",
       "      <td>1</td>\n",
       "      <td>4</td>\n",
       "      <td>0</td>\n",
       "      <td>2</td>\n",
       "      <td>1</td>\n",
       "      <td>3</td>\n",
       "    </tr>\n",
       "    <tr>\n",
       "      <th>10.0</th>\n",
       "      <td>16</td>\n",
       "      <td>7</td>\n",
       "      <td>5</td>\n",
       "      <td>0</td>\n",
       "      <td>0</td>\n",
       "      <td>0</td>\n",
       "      <td>0</td>\n",
       "      <td>1</td>\n",
       "      <td>1</td>\n",
       "      <td>9</td>\n",
       "      <td>0</td>\n",
       "      <td>3</td>\n",
       "      <td>3</td>\n",
       "      <td>0</td>\n",
       "      <td>5</td>\n",
       "      <td>9</td>\n",
       "    </tr>\n",
       "    <tr>\n",
       "      <th>11.0</th>\n",
       "      <td>0</td>\n",
       "      <td>0</td>\n",
       "      <td>0</td>\n",
       "      <td>0</td>\n",
       "      <td>0</td>\n",
       "      <td>0</td>\n",
       "      <td>0</td>\n",
       "      <td>1</td>\n",
       "      <td>0</td>\n",
       "      <td>0</td>\n",
       "      <td>0</td>\n",
       "      <td>1</td>\n",
       "      <td>1</td>\n",
       "      <td>2</td>\n",
       "      <td>0</td>\n",
       "      <td>4</td>\n",
       "    </tr>\n",
       "    <tr>\n",
       "      <th>12.0</th>\n",
       "      <td>6</td>\n",
       "      <td>6</td>\n",
       "      <td>4</td>\n",
       "      <td>2</td>\n",
       "      <td>1</td>\n",
       "      <td>2</td>\n",
       "      <td>0</td>\n",
       "      <td>1</td>\n",
       "      <td>0</td>\n",
       "      <td>0</td>\n",
       "      <td>0</td>\n",
       "      <td>8</td>\n",
       "      <td>0</td>\n",
       "      <td>0</td>\n",
       "      <td>0</td>\n",
       "      <td>1</td>\n",
       "    </tr>\n",
       "    <tr>\n",
       "      <th>13.0</th>\n",
       "      <td>0</td>\n",
       "      <td>0</td>\n",
       "      <td>0</td>\n",
       "      <td>0</td>\n",
       "      <td>0</td>\n",
       "      <td>0</td>\n",
       "      <td>0</td>\n",
       "      <td>0</td>\n",
       "      <td>0</td>\n",
       "      <td>0</td>\n",
       "      <td>0</td>\n",
       "      <td>0</td>\n",
       "      <td>1</td>\n",
       "      <td>0</td>\n",
       "      <td>0</td>\n",
       "      <td>4</td>\n",
       "    </tr>\n",
       "    <tr>\n",
       "      <th>14.0</th>\n",
       "      <td>0</td>\n",
       "      <td>0</td>\n",
       "      <td>0</td>\n",
       "      <td>0</td>\n",
       "      <td>0</td>\n",
       "      <td>0</td>\n",
       "      <td>0</td>\n",
       "      <td>0</td>\n",
       "      <td>0</td>\n",
       "      <td>0</td>\n",
       "      <td>0</td>\n",
       "      <td>0</td>\n",
       "      <td>0</td>\n",
       "      <td>3</td>\n",
       "      <td>0</td>\n",
       "      <td>5</td>\n",
       "    </tr>\n",
       "    <tr>\n",
       "      <th>15.0</th>\n",
       "      <td>0</td>\n",
       "      <td>0</td>\n",
       "      <td>0</td>\n",
       "      <td>0</td>\n",
       "      <td>0</td>\n",
       "      <td>0</td>\n",
       "      <td>0</td>\n",
       "      <td>0</td>\n",
       "      <td>0</td>\n",
       "      <td>0</td>\n",
       "      <td>0</td>\n",
       "      <td>0</td>\n",
       "      <td>0</td>\n",
       "      <td>0</td>\n",
       "      <td>0</td>\n",
       "      <td>1</td>\n",
       "    </tr>\n",
       "    <tr>\n",
       "      <th>16.0</th>\n",
       "      <td>0</td>\n",
       "      <td>0</td>\n",
       "      <td>0</td>\n",
       "      <td>0</td>\n",
       "      <td>0</td>\n",
       "      <td>0</td>\n",
       "      <td>0</td>\n",
       "      <td>1</td>\n",
       "      <td>0</td>\n",
       "      <td>0</td>\n",
       "      <td>0</td>\n",
       "      <td>0</td>\n",
       "      <td>0</td>\n",
       "      <td>0</td>\n",
       "      <td>0</td>\n",
       "      <td>2</td>\n",
       "    </tr>\n",
       "    <tr>\n",
       "      <th>17.0</th>\n",
       "      <td>0</td>\n",
       "      <td>0</td>\n",
       "      <td>0</td>\n",
       "      <td>0</td>\n",
       "      <td>0</td>\n",
       "      <td>0</td>\n",
       "      <td>0</td>\n",
       "      <td>0</td>\n",
       "      <td>0</td>\n",
       "      <td>0</td>\n",
       "      <td>0</td>\n",
       "      <td>0</td>\n",
       "      <td>0</td>\n",
       "      <td>0</td>\n",
       "      <td>0</td>\n",
       "      <td>1</td>\n",
       "    </tr>\n",
       "    <tr>\n",
       "      <th>20.0</th>\n",
       "      <td>6</td>\n",
       "      <td>0</td>\n",
       "      <td>0</td>\n",
       "      <td>0</td>\n",
       "      <td>0</td>\n",
       "      <td>0</td>\n",
       "      <td>0</td>\n",
       "      <td>0</td>\n",
       "      <td>0</td>\n",
       "      <td>0</td>\n",
       "      <td>0</td>\n",
       "      <td>0</td>\n",
       "      <td>0</td>\n",
       "      <td>0</td>\n",
       "      <td>0</td>\n",
       "      <td>0</td>\n",
       "    </tr>\n",
       "    <tr>\n",
       "      <th>30.0</th>\n",
       "      <td>1</td>\n",
       "      <td>0</td>\n",
       "      <td>0</td>\n",
       "      <td>0</td>\n",
       "      <td>0</td>\n",
       "      <td>0</td>\n",
       "      <td>0</td>\n",
       "      <td>0</td>\n",
       "      <td>0</td>\n",
       "      <td>0</td>\n",
       "      <td>0</td>\n",
       "      <td>0</td>\n",
       "      <td>0</td>\n",
       "      <td>0</td>\n",
       "      <td>0</td>\n",
       "      <td>0</td>\n",
       "    </tr>\n",
       "    <tr>\n",
       "      <th>40.0</th>\n",
       "      <td>1</td>\n",
       "      <td>0</td>\n",
       "      <td>0</td>\n",
       "      <td>0</td>\n",
       "      <td>0</td>\n",
       "      <td>0</td>\n",
       "      <td>0</td>\n",
       "      <td>0</td>\n",
       "      <td>0</td>\n",
       "      <td>0</td>\n",
       "      <td>0</td>\n",
       "      <td>0</td>\n",
       "      <td>0</td>\n",
       "      <td>0</td>\n",
       "      <td>0</td>\n",
       "      <td>0</td>\n",
       "    </tr>\n",
       "  </tbody>\n",
       "</table>\n",
       "</div>"
      ],
      "text/plain": [
       "accommodates    1     2     3     4    5    6    7    8   9   10  11  12  13  \\\n",
       "beds                                                                           \n",
       "1.0           3668  7487   553   730   21   24    2    1   0   5   0   0   0   \n",
       "2.0            151  1196  1651  3469  147  152    3   10   0   1   0   0   1   \n",
       "3.0             32    80   277  1218  565  888   35   32   0   2   0   0   0   \n",
       "4.0             38    39    22   282  276  654  126  187   8   4   0   1   0   \n",
       "5.0             10     5     3    25   68  181   91  120  22  43   1   4   0   \n",
       "6.0             21     4     4     5    7   65   18   86  13  34   7  15   0   \n",
       "7.0              2     0     0     1    1    7   10   22  17  20   3  11   1   \n",
       "8.0             11     8     1     1    1    4    0   20   6  20   2  10   3   \n",
       "9.0              0     1     0     0    0    0    0    3   5  10   1   4   0   \n",
       "10.0            16     7     5     0    0    0    0    1   1   9   0   3   3   \n",
       "11.0             0     0     0     0    0    0    0    1   0   0   0   1   1   \n",
       "12.0             6     6     4     2    1    2    0    1   0   0   0   8   0   \n",
       "13.0             0     0     0     0    0    0    0    0   0   0   0   0   1   \n",
       "14.0             0     0     0     0    0    0    0    0   0   0   0   0   0   \n",
       "15.0             0     0     0     0    0    0    0    0   0   0   0   0   0   \n",
       "16.0             0     0     0     0    0    0    0    1   0   0   0   0   0   \n",
       "17.0             0     0     0     0    0    0    0    0   0   0   0   0   0   \n",
       "20.0             6     0     0     0    0    0    0    0   0   0   0   0   0   \n",
       "30.0             1     0     0     0    0    0    0    0   0   0   0   0   0   \n",
       "40.0             1     0     0     0    0    0    0    0   0   0   0   0   0   \n",
       "\n",
       "accommodates  14  15  16  \n",
       "beds                      \n",
       "1.0            0   0   1  \n",
       "2.0            0   0   1  \n",
       "3.0            0   0   0  \n",
       "4.0            0   0   0  \n",
       "5.0            0   0   0  \n",
       "6.0            2   0   0  \n",
       "7.0            4   0   0  \n",
       "8.0            2   0   1  \n",
       "9.0            2   1   3  \n",
       "10.0           0   5   9  \n",
       "11.0           2   0   4  \n",
       "12.0           0   0   1  \n",
       "13.0           0   0   4  \n",
       "14.0           3   0   5  \n",
       "15.0           0   0   1  \n",
       "16.0           0   0   2  \n",
       "17.0           0   0   1  \n",
       "20.0           0   0   0  \n",
       "30.0           0   0   0  \n",
       "40.0           0   0   0  "
      ]
     },
     "execution_count": 51,
     "metadata": {},
     "output_type": "execute_result"
    }
   ],
   "source": [
    "pd.crosstab(listings_det.beds, listings_det.accommodates)"
   ]
  },
  {
   "cell_type": "markdown",
   "id": "8a92e289-8aa7-463c-b42e-7b92223fb3ae",
   "metadata": {},
   "source": [
    "- Si la vivienda acomoda a 1 o 2 personas se suele corresponder con que el piso tenga una cama \n",
    "- Si la vivienda acomoda a 3 o 4 personas el valor que suele corresponder es que el piso tenga 2 camas\n",
    "- Si la vivienda acomoda a 5 o 6 personas el valor mas frecuente es que el piso tenga 3 camas\n",
    "- Si el piso acomoda a mas de 6 personas vamos a estimar que el piso tiene 4 camas"
   ]
  },
  {
   "cell_type": "code",
   "execution_count": 52,
   "id": "464d5d12-17b6-4566-a7ee-e373c78c5c73",
   "metadata": {},
   "outputs": [
    {
     "data": {
      "text/plain": [
       "beds\n",
       "1.0     12492\n",
       "2.0      6782\n",
       "3.0      3129\n",
       "4.0      1637\n",
       "5.0       573\n",
       "NaN       305\n",
       "6.0       281\n",
       "7.0        99\n",
       "8.0        90\n",
       "10.0       59\n",
       "12.0       31\n",
       "9.0        30\n",
       "11.0        9\n",
       "14.0        8\n",
       "20.0        6\n",
       "13.0        5\n",
       "16.0        3\n",
       "17.0        1\n",
       "15.0        1\n",
       "40.0        1\n",
       "30.0        1\n",
       "Name: count, dtype: int64"
      ]
     },
     "execution_count": 52,
     "metadata": {},
     "output_type": "execute_result"
    }
   ],
   "source": [
    "listings_det.beds.value_counts(dropna=False)"
   ]
  },
  {
   "cell_type": "code",
   "execution_count": 53,
   "id": "a43fb204-9965-4e3c-b9db-8a84f8b3a45e",
   "metadata": {},
   "outputs": [],
   "source": [
    "def imputar_nulos(registro): \n",
    "    #lista de condiciones\n",
    "    condiciones =[(registro.accommodates <=2),\n",
    "                  (registro.accommodates>2) & (registro.accommodates<=4), \n",
    "                 (registro.accommodates >4)&(registro.accommodates<=6), \n",
    "                 (registro.accommodates >6)]\n",
    "    #lista de resultados\n",
    "    resultados = [1, 2, 3, 4]\n",
    "    \n",
    "    return (np.select(condiciones, resultados, default= -999))"
   ]
  },
  {
   "cell_type": "code",
   "execution_count": 54,
   "id": "7d6b8a18-9dae-4288-898e-e358f1115e7f",
   "metadata": {
    "scrolled": true
   },
   "outputs": [],
   "source": [
    "listings_det.loc[listings_det.beds.isna(), \"beds\"] = listings_det.loc[listings_det.beds.isna()].apply(imputar_nulos, axis=1).astype(int)"
   ]
  },
  {
   "cell_type": "code",
   "execution_count": 55,
   "id": "30de6c5b-fb10-443d-b19e-8fd41a855b51",
   "metadata": {},
   "outputs": [
    {
     "data": {
      "text/plain": [
       "beds\n",
       "1.0     12730\n",
       "2.0      6834\n",
       "3.0      3140\n",
       "4.0      1641\n",
       "5.0       573\n",
       "6.0       281\n",
       "7.0        99\n",
       "8.0        90\n",
       "10.0       59\n",
       "12.0       31\n",
       "9.0        30\n",
       "11.0        9\n",
       "14.0        8\n",
       "20.0        6\n",
       "13.0        5\n",
       "16.0        3\n",
       "17.0        1\n",
       "15.0        1\n",
       "40.0        1\n",
       "30.0        1\n",
       "Name: count, dtype: int64"
      ]
     },
     "execution_count": 55,
     "metadata": {},
     "output_type": "execute_result"
    }
   ],
   "source": [
    "listings_det.beds.value_counts()"
   ]
  },
  {
   "cell_type": "markdown",
   "id": "ba6d5e63-6284-4e4e-80e1-41ca58cbe4bf",
   "metadata": {},
   "source": [
    "#### Analisis de duplicados"
   ]
  },
  {
   "cell_type": "code",
   "execution_count": 56,
   "id": "8f7229c4-acc3-45ba-b6fb-9d852eee69ef",
   "metadata": {},
   "outputs": [
    {
     "data": {
      "text/plain": [
       "0"
      ]
     },
     "execution_count": 56,
     "metadata": {},
     "output_type": "execute_result"
    }
   ],
   "source": [
    "listings_det.duplicated().sum()"
   ]
  },
  {
   "cell_type": "markdown",
   "id": "50b1e735-3360-49dd-8722-dc2ee615d068",
   "metadata": {},
   "source": [
    "#### Analisis de variables categoricas"
   ]
  },
  {
   "cell_type": "code",
   "execution_count": 57,
   "id": "98d7ce7a-56ab-4a4e-9477-7e116ee3fe3b",
   "metadata": {},
   "outputs": [
    {
     "name": "stdout",
     "output_type": "stream",
     "text": [
      "<class 'pandas.core.frame.DataFrame'>\n",
      "RangeIndex: 25543 entries, 0 to 25542\n",
      "Data columns (total 11 columns):\n",
      " #   Column                       Non-Null Count  Dtype   \n",
      "---  ------                       --------------  -----   \n",
      " 0   id                           25543 non-null  int64   \n",
      " 1   description                  0 non-null      float64 \n",
      " 2   host_is_superhost            25363 non-null  category\n",
      " 3   accommodates                 25543 non-null  int64   \n",
      " 4   bathrooms                    0 non-null      float64 \n",
      " 5   bedrooms                     0 non-null      float64 \n",
      " 6   beds                         25543 non-null  float64 \n",
      " 7   number_of_reviews            25543 non-null  int64   \n",
      " 8   review_scores_rating         20216 non-null  float64 \n",
      " 9   review_scores_communication  20215 non-null  float64 \n",
      " 10  review_scores_location       20212 non-null  float64 \n",
      "dtypes: category(1), float64(7), int64(3)\n",
      "memory usage: 2.0 MB\n"
     ]
    }
   ],
   "source": [
    "listings_det.info()"
   ]
  },
  {
   "cell_type": "code",
   "execution_count": 58,
   "id": "6d517e76-56ba-48aa-a476-3568d58ccef2",
   "metadata": {},
   "outputs": [
    {
     "data": {
      "text/plain": [
       "host_is_superhost\n",
       "f    19676\n",
       "t     5687\n",
       "Name: count, dtype: int64"
      ]
     },
     "execution_count": 58,
     "metadata": {},
     "output_type": "execute_result"
    }
   ],
   "source": [
    "listings_det.host_is_superhost.value_counts()"
   ]
  },
  {
   "cell_type": "markdown",
   "id": "30cf7408-33d5-4589-abb9-bf5ebc4d0a63",
   "metadata": {},
   "source": [
    "#### Analisis de variables numéricas"
   ]
  },
  {
   "cell_type": "code",
   "execution_count": 59,
   "id": "18f988b3-84d3-41bb-8b77-f235aefd41cc",
   "metadata": {},
   "outputs": [
    {
     "data": {
      "text/html": [
       "<div>\n",
       "<style scoped>\n",
       "    .dataframe tbody tr th:only-of-type {\n",
       "        vertical-align: middle;\n",
       "    }\n",
       "\n",
       "    .dataframe tbody tr th {\n",
       "        vertical-align: top;\n",
       "    }\n",
       "\n",
       "    .dataframe thead th {\n",
       "        text-align: right;\n",
       "    }\n",
       "</style>\n",
       "<table border=\"1\" class=\"dataframe\">\n",
       "  <thead>\n",
       "    <tr style=\"text-align: right;\">\n",
       "      <th></th>\n",
       "      <th>count</th>\n",
       "      <th>mean</th>\n",
       "      <th>std</th>\n",
       "      <th>min</th>\n",
       "      <th>25%</th>\n",
       "      <th>50%</th>\n",
       "      <th>75%</th>\n",
       "      <th>max</th>\n",
       "    </tr>\n",
       "  </thead>\n",
       "  <tbody>\n",
       "    <tr>\n",
       "      <th>id</th>\n",
       "      <td>25543.0</td>\n",
       "      <td>4.159907e+17</td>\n",
       "      <td>4.324774e+17</td>\n",
       "      <td>6369.0</td>\n",
       "      <td>31148623.50</td>\n",
       "      <td>53976090.00</td>\n",
       "      <td>8.698655e+17</td>\n",
       "      <td>1.046255e+18</td>\n",
       "    </tr>\n",
       "    <tr>\n",
       "      <th>description</th>\n",
       "      <td>0.0</td>\n",
       "      <td>NaN</td>\n",
       "      <td>NaN</td>\n",
       "      <td>NaN</td>\n",
       "      <td>NaN</td>\n",
       "      <td>NaN</td>\n",
       "      <td>NaN</td>\n",
       "      <td>NaN</td>\n",
       "    </tr>\n",
       "    <tr>\n",
       "      <th>accommodates</th>\n",
       "      <td>25543.0</td>\n",
       "      <td>3.126727e+00</td>\n",
       "      <td>1.920497e+00</td>\n",
       "      <td>1.0</td>\n",
       "      <td>2.00</td>\n",
       "      <td>2.00</td>\n",
       "      <td>4.000000e+00</td>\n",
       "      <td>1.600000e+01</td>\n",
       "    </tr>\n",
       "    <tr>\n",
       "      <th>bathrooms</th>\n",
       "      <td>0.0</td>\n",
       "      <td>NaN</td>\n",
       "      <td>NaN</td>\n",
       "      <td>NaN</td>\n",
       "      <td>NaN</td>\n",
       "      <td>NaN</td>\n",
       "      <td>NaN</td>\n",
       "      <td>NaN</td>\n",
       "    </tr>\n",
       "    <tr>\n",
       "      <th>bedrooms</th>\n",
       "      <td>0.0</td>\n",
       "      <td>NaN</td>\n",
       "      <td>NaN</td>\n",
       "      <td>NaN</td>\n",
       "      <td>NaN</td>\n",
       "      <td>NaN</td>\n",
       "      <td>NaN</td>\n",
       "      <td>NaN</td>\n",
       "    </tr>\n",
       "    <tr>\n",
       "      <th>beds</th>\n",
       "      <td>25543.0</td>\n",
       "      <td>1.962338e+00</td>\n",
       "      <td>1.450671e+00</td>\n",
       "      <td>1.0</td>\n",
       "      <td>1.00</td>\n",
       "      <td>2.00</td>\n",
       "      <td>2.000000e+00</td>\n",
       "      <td>4.000000e+01</td>\n",
       "    </tr>\n",
       "    <tr>\n",
       "      <th>number_of_reviews</th>\n",
       "      <td>25543.0</td>\n",
       "      <td>4.286904e+01</td>\n",
       "      <td>8.104807e+01</td>\n",
       "      <td>0.0</td>\n",
       "      <td>1.00</td>\n",
       "      <td>10.00</td>\n",
       "      <td>4.600000e+01</td>\n",
       "      <td>9.940000e+02</td>\n",
       "    </tr>\n",
       "    <tr>\n",
       "      <th>review_scores_rating</th>\n",
       "      <td>20216.0</td>\n",
       "      <td>4.640384e+00</td>\n",
       "      <td>4.836087e-01</td>\n",
       "      <td>0.0</td>\n",
       "      <td>4.53</td>\n",
       "      <td>4.75</td>\n",
       "      <td>4.920000e+00</td>\n",
       "      <td>5.000000e+00</td>\n",
       "    </tr>\n",
       "    <tr>\n",
       "      <th>review_scores_communication</th>\n",
       "      <td>20215.0</td>\n",
       "      <td>4.759503e+00</td>\n",
       "      <td>4.435415e-01</td>\n",
       "      <td>1.0</td>\n",
       "      <td>4.72</td>\n",
       "      <td>4.89</td>\n",
       "      <td>5.000000e+00</td>\n",
       "      <td>5.000000e+00</td>\n",
       "    </tr>\n",
       "    <tr>\n",
       "      <th>review_scores_location</th>\n",
       "      <td>20212.0</td>\n",
       "      <td>4.746825e+00</td>\n",
       "      <td>3.948586e-01</td>\n",
       "      <td>1.0</td>\n",
       "      <td>4.67</td>\n",
       "      <td>4.88</td>\n",
       "      <td>4.990000e+00</td>\n",
       "      <td>5.000000e+00</td>\n",
       "    </tr>\n",
       "  </tbody>\n",
       "</table>\n",
       "</div>"
      ],
      "text/plain": [
       "                               count          mean           std     min  \\\n",
       "id                           25543.0  4.159907e+17  4.324774e+17  6369.0   \n",
       "description                      0.0           NaN           NaN     NaN   \n",
       "accommodates                 25543.0  3.126727e+00  1.920497e+00     1.0   \n",
       "bathrooms                        0.0           NaN           NaN     NaN   \n",
       "bedrooms                         0.0           NaN           NaN     NaN   \n",
       "beds                         25543.0  1.962338e+00  1.450671e+00     1.0   \n",
       "number_of_reviews            25543.0  4.286904e+01  8.104807e+01     0.0   \n",
       "review_scores_rating         20216.0  4.640384e+00  4.836087e-01     0.0   \n",
       "review_scores_communication  20215.0  4.759503e+00  4.435415e-01     1.0   \n",
       "review_scores_location       20212.0  4.746825e+00  3.948586e-01     1.0   \n",
       "\n",
       "                                     25%          50%           75%  \\\n",
       "id                           31148623.50  53976090.00  8.698655e+17   \n",
       "description                          NaN          NaN           NaN   \n",
       "accommodates                        2.00         2.00  4.000000e+00   \n",
       "bathrooms                            NaN          NaN           NaN   \n",
       "bedrooms                             NaN          NaN           NaN   \n",
       "beds                                1.00         2.00  2.000000e+00   \n",
       "number_of_reviews                   1.00        10.00  4.600000e+01   \n",
       "review_scores_rating                4.53         4.75  4.920000e+00   \n",
       "review_scores_communication         4.72         4.89  5.000000e+00   \n",
       "review_scores_location              4.67         4.88  4.990000e+00   \n",
       "\n",
       "                                      max  \n",
       "id                           1.046255e+18  \n",
       "description                           NaN  \n",
       "accommodates                 1.600000e+01  \n",
       "bathrooms                             NaN  \n",
       "bedrooms                              NaN  \n",
       "beds                         4.000000e+01  \n",
       "number_of_reviews            9.940000e+02  \n",
       "review_scores_rating         5.000000e+00  \n",
       "review_scores_communication  5.000000e+00  \n",
       "review_scores_location       5.000000e+00  "
      ]
     },
     "execution_count": 59,
     "metadata": {},
     "output_type": "execute_result"
    }
   ],
   "source": [
    "listings_det.describe(include=\"number\").T"
   ]
  },
  {
   "cell_type": "markdown",
   "id": "6b494460-8028-4b4a-ba73-b2f4bfc98a46",
   "metadata": {},
   "source": [
    "- El numero maximo de camas es 40 y resulta extraño pero hemos comprobado que es para hoteles, por lo que tiene sentido, pero no los vamos aincluir en nuestroa analisis. \n",
    "\n"
   ]
  },
  {
   "cell_type": "code",
   "execution_count": 60,
   "id": "c4495e65-e69e-492b-b685-a29f8d78181a",
   "metadata": {},
   "outputs": [],
   "source": [
    "listings_det.drop(columns= [\"description\", \"bathrooms\", \"bedrooms\"], inplace=True)"
   ]
  },
  {
   "cell_type": "code",
   "execution_count": 61,
   "id": "43b26d16-04b4-416b-9ca6-54532c562cb3",
   "metadata": {},
   "outputs": [
    {
     "data": {
      "text/html": [
       "<div>\n",
       "<style scoped>\n",
       "    .dataframe tbody tr th:only-of-type {\n",
       "        vertical-align: middle;\n",
       "    }\n",
       "\n",
       "    .dataframe tbody tr th {\n",
       "        vertical-align: top;\n",
       "    }\n",
       "\n",
       "    .dataframe thead th {\n",
       "        text-align: right;\n",
       "    }\n",
       "</style>\n",
       "<table border=\"1\" class=\"dataframe\">\n",
       "  <thead>\n",
       "    <tr style=\"text-align: right;\">\n",
       "      <th></th>\n",
       "      <th>id</th>\n",
       "      <th>host_is_superhost</th>\n",
       "      <th>accommodates</th>\n",
       "      <th>beds</th>\n",
       "      <th>number_of_reviews</th>\n",
       "      <th>review_scores_rating</th>\n",
       "      <th>review_scores_communication</th>\n",
       "      <th>review_scores_location</th>\n",
       "    </tr>\n",
       "  </thead>\n",
       "  <tbody>\n",
       "    <tr>\n",
       "      <th>0</th>\n",
       "      <td>6369</td>\n",
       "      <td>t</td>\n",
       "      <td>2</td>\n",
       "      <td>1.0</td>\n",
       "      <td>106</td>\n",
       "      <td>4.88</td>\n",
       "      <td>4.86</td>\n",
       "      <td>4.84</td>\n",
       "    </tr>\n",
       "    <tr>\n",
       "      <th>1</th>\n",
       "      <td>21853</td>\n",
       "      <td>f</td>\n",
       "      <td>1</td>\n",
       "      <td>1.0</td>\n",
       "      <td>33</td>\n",
       "      <td>4.58</td>\n",
       "      <td>4.82</td>\n",
       "      <td>4.21</td>\n",
       "    </tr>\n",
       "    <tr>\n",
       "      <th>2</th>\n",
       "      <td>24805</td>\n",
       "      <td>f</td>\n",
       "      <td>3</td>\n",
       "      <td>1.0</td>\n",
       "      <td>33</td>\n",
       "      <td>4.91</td>\n",
       "      <td>4.97</td>\n",
       "      <td>5.00</td>\n",
       "    </tr>\n",
       "    <tr>\n",
       "      <th>3</th>\n",
       "      <td>26825</td>\n",
       "      <td>t</td>\n",
       "      <td>1</td>\n",
       "      <td>1.0</td>\n",
       "      <td>196</td>\n",
       "      <td>4.72</td>\n",
       "      <td>4.72</td>\n",
       "      <td>4.73</td>\n",
       "    </tr>\n",
       "    <tr>\n",
       "      <th>4</th>\n",
       "      <td>30320</td>\n",
       "      <td>f</td>\n",
       "      <td>2</td>\n",
       "      <td>2.0</td>\n",
       "      <td>172</td>\n",
       "      <td>4.63</td>\n",
       "      <td>4.78</td>\n",
       "      <td>4.90</td>\n",
       "    </tr>\n",
       "  </tbody>\n",
       "</table>\n",
       "</div>"
      ],
      "text/plain": [
       "      id host_is_superhost  accommodates  beds  number_of_reviews  \\\n",
       "0   6369                 t             2   1.0                106   \n",
       "1  21853                 f             1   1.0                 33   \n",
       "2  24805                 f             3   1.0                 33   \n",
       "3  26825                 t             1   1.0                196   \n",
       "4  30320                 f             2   2.0                172   \n",
       "\n",
       "   review_scores_rating  review_scores_communication  review_scores_location  \n",
       "0                  4.88                         4.86                    4.84  \n",
       "1                  4.58                         4.82                    4.21  \n",
       "2                  4.91                         4.97                    5.00  \n",
       "3                  4.72                         4.72                    4.73  \n",
       "4                  4.63                         4.78                    4.90  "
      ]
     },
     "execution_count": 61,
     "metadata": {},
     "output_type": "execute_result"
    }
   ],
   "source": [
    "listings_det.head()"
   ]
  },
  {
   "cell_type": "markdown",
   "id": "86a63d0c-6b31-47f9-adb5-ed1ab6c106bb",
   "metadata": {},
   "source": [
    "## Tablon Analítico"
   ]
  },
  {
   "cell_type": "markdown",
   "id": "6b7278e5-d15b-4f0c-8307-a4ae99a1af73",
   "metadata": {},
   "source": [
    "- Tablas disponibles: \n",
    "    1) listings\n",
    "    2) listings_det\n",
    "    3) precio_m2\n",
    "\n",
    "La tabla principal es listings, ya que lo que hace listings_det es aportar detalles adicionales. Por tanto la tabla que manda en la integración de datos es Listings, y las cruzaremos por la variable id. \n",
    "\n",
    "La tabla precio_m2, comparte el campo del distrito (neighbourhood_group), aunque para integrarla al tablón analítico debemos revisar primero si los literales de los distritos son exactamente iguales en ambas tablas. \n",
    "\n"
   ]
  },
  {
   "cell_type": "code",
   "execution_count": 62,
   "id": "10d17b1c-0e80-44e3-8ebf-4402762c98d8",
   "metadata": {},
   "outputs": [
    {
     "name": "stdout",
     "output_type": "stream",
     "text": [
      "(21387, 14)\n",
      "(25543, 8)\n"
     ]
    }
   ],
   "source": [
    "for cada in [listings, listings_det]:\n",
    "    print(cada.shape)"
   ]
  },
  {
   "cell_type": "code",
   "execution_count": 63,
   "id": "a46075fa-f7e3-4555-a425-077c704e0b6e",
   "metadata": {},
   "outputs": [],
   "source": [
    "df = pd.merge(left=listings, right=listings_det, how=\"left\", on=\"id\")\n"
   ]
  },
  {
   "cell_type": "code",
   "execution_count": 64,
   "id": "f95ef533-4691-4934-a9b2-80b044431a97",
   "metadata": {
    "scrolled": true
   },
   "outputs": [
    {
     "data": {
      "text/html": [
       "<div>\n",
       "<style scoped>\n",
       "    .dataframe tbody tr th:only-of-type {\n",
       "        vertical-align: middle;\n",
       "    }\n",
       "\n",
       "    .dataframe tbody tr th {\n",
       "        vertical-align: top;\n",
       "    }\n",
       "\n",
       "    .dataframe thead th {\n",
       "        text-align: right;\n",
       "    }\n",
       "</style>\n",
       "<table border=\"1\" class=\"dataframe\">\n",
       "  <thead>\n",
       "    <tr style=\"text-align: right;\">\n",
       "      <th></th>\n",
       "      <th>id</th>\n",
       "      <th>name</th>\n",
       "      <th>host_id</th>\n",
       "      <th>neighbourhood_group</th>\n",
       "      <th>neighbourhood</th>\n",
       "      <th>latitude</th>\n",
       "      <th>longitude</th>\n",
       "      <th>room_type</th>\n",
       "      <th>price</th>\n",
       "      <th>minimum_nights</th>\n",
       "      <th>calculated_host_listings_count</th>\n",
       "      <th>availability_365</th>\n",
       "      <th>bedrooms</th>\n",
       "      <th>bathrooms</th>\n",
       "      <th>host_is_superhost</th>\n",
       "      <th>accommodates</th>\n",
       "      <th>beds</th>\n",
       "      <th>number_of_reviews</th>\n",
       "      <th>review_scores_rating</th>\n",
       "      <th>review_scores_communication</th>\n",
       "      <th>review_scores_location</th>\n",
       "    </tr>\n",
       "  </thead>\n",
       "  <tbody>\n",
       "    <tr>\n",
       "      <th>0</th>\n",
       "      <td>6369</td>\n",
       "      <td>Rental unit in Madrid · ★4.88 · 1 bedroom · 1 ...</td>\n",
       "      <td>13660</td>\n",
       "      <td>Chamartín</td>\n",
       "      <td>Hispanoamérica</td>\n",
       "      <td>40.45724</td>\n",
       "      <td>-3.67688</td>\n",
       "      <td>Private room</td>\n",
       "      <td>85.0</td>\n",
       "      <td>5</td>\n",
       "      <td>1</td>\n",
       "      <td>22</td>\n",
       "      <td>1.0</td>\n",
       "      <td>1.0</td>\n",
       "      <td>t</td>\n",
       "      <td>2</td>\n",
       "      <td>1.0</td>\n",
       "      <td>106</td>\n",
       "      <td>4.88</td>\n",
       "      <td>4.86</td>\n",
       "      <td>4.84</td>\n",
       "    </tr>\n",
       "    <tr>\n",
       "      <th>1</th>\n",
       "      <td>30320</td>\n",
       "      <td>Rental unit in Madrid · ★4.63 · 1 bedroom · 2 ...</td>\n",
       "      <td>130907</td>\n",
       "      <td>Centro</td>\n",
       "      <td>Sol</td>\n",
       "      <td>40.41476</td>\n",
       "      <td>-3.70418</td>\n",
       "      <td>Entire home/apt</td>\n",
       "      <td>65.0</td>\n",
       "      <td>5</td>\n",
       "      <td>3</td>\n",
       "      <td>0</td>\n",
       "      <td>1.0</td>\n",
       "      <td>1.0</td>\n",
       "      <td>f</td>\n",
       "      <td>2</td>\n",
       "      <td>2.0</td>\n",
       "      <td>172</td>\n",
       "      <td>4.63</td>\n",
       "      <td>4.78</td>\n",
       "      <td>4.90</td>\n",
       "    </tr>\n",
       "    <tr>\n",
       "      <th>2</th>\n",
       "      <td>21853</td>\n",
       "      <td>Rental unit in Madrid · ★4.58 · 1 bedroom · 1 ...</td>\n",
       "      <td>83531</td>\n",
       "      <td>Latina</td>\n",
       "      <td>Cármenes</td>\n",
       "      <td>40.40381</td>\n",
       "      <td>-3.74130</td>\n",
       "      <td>Private room</td>\n",
       "      <td>31.0</td>\n",
       "      <td>4</td>\n",
       "      <td>2</td>\n",
       "      <td>135</td>\n",
       "      <td>1.0</td>\n",
       "      <td>1.0</td>\n",
       "      <td>f</td>\n",
       "      <td>1</td>\n",
       "      <td>1.0</td>\n",
       "      <td>33</td>\n",
       "      <td>4.58</td>\n",
       "      <td>4.82</td>\n",
       "      <td>4.21</td>\n",
       "    </tr>\n",
       "    <tr>\n",
       "      <th>3</th>\n",
       "      <td>24805</td>\n",
       "      <td>Rental unit in Madrid · ★4.91 · 6 bedrooms · 1...</td>\n",
       "      <td>346366726</td>\n",
       "      <td>Centro</td>\n",
       "      <td>Universidad</td>\n",
       "      <td>40.42183</td>\n",
       "      <td>-3.70529</td>\n",
       "      <td>Entire home/apt</td>\n",
       "      <td>94.0</td>\n",
       "      <td>5</td>\n",
       "      <td>1</td>\n",
       "      <td>168</td>\n",
       "      <td>6.0</td>\n",
       "      <td>1.0</td>\n",
       "      <td>f</td>\n",
       "      <td>3</td>\n",
       "      <td>1.0</td>\n",
       "      <td>33</td>\n",
       "      <td>4.91</td>\n",
       "      <td>4.97</td>\n",
       "      <td>5.00</td>\n",
       "    </tr>\n",
       "    <tr>\n",
       "      <th>4</th>\n",
       "      <td>26825</td>\n",
       "      <td>Home in Madrid · ★4.72 · 1 bedroom · 1 bed · 1...</td>\n",
       "      <td>114340</td>\n",
       "      <td>Arganzuela</td>\n",
       "      <td>Legazpi</td>\n",
       "      <td>40.38975</td>\n",
       "      <td>-3.69018</td>\n",
       "      <td>Private room</td>\n",
       "      <td>29.0</td>\n",
       "      <td>3</td>\n",
       "      <td>1</td>\n",
       "      <td>295</td>\n",
       "      <td>1.0</td>\n",
       "      <td>1.5</td>\n",
       "      <td>t</td>\n",
       "      <td>1</td>\n",
       "      <td>1.0</td>\n",
       "      <td>196</td>\n",
       "      <td>4.72</td>\n",
       "      <td>4.72</td>\n",
       "      <td>4.73</td>\n",
       "    </tr>\n",
       "  </tbody>\n",
       "</table>\n",
       "</div>"
      ],
      "text/plain": [
       "      id                                               name    host_id  \\\n",
       "0   6369  Rental unit in Madrid · ★4.88 · 1 bedroom · 1 ...      13660   \n",
       "1  30320  Rental unit in Madrid · ★4.63 · 1 bedroom · 2 ...     130907   \n",
       "2  21853  Rental unit in Madrid · ★4.58 · 1 bedroom · 1 ...      83531   \n",
       "3  24805  Rental unit in Madrid · ★4.91 · 6 bedrooms · 1...  346366726   \n",
       "4  26825  Home in Madrid · ★4.72 · 1 bedroom · 1 bed · 1...     114340   \n",
       "\n",
       "  neighbourhood_group   neighbourhood  latitude  longitude        room_type  \\\n",
       "0           Chamartín  Hispanoamérica  40.45724   -3.67688     Private room   \n",
       "1              Centro             Sol  40.41476   -3.70418  Entire home/apt   \n",
       "2              Latina        Cármenes  40.40381   -3.74130     Private room   \n",
       "3              Centro     Universidad  40.42183   -3.70529  Entire home/apt   \n",
       "4          Arganzuela         Legazpi  40.38975   -3.69018     Private room   \n",
       "\n",
       "   price  minimum_nights  calculated_host_listings_count  availability_365  \\\n",
       "0   85.0               5                               1                22   \n",
       "1   65.0               5                               3                 0   \n",
       "2   31.0               4                               2               135   \n",
       "3   94.0               5                               1               168   \n",
       "4   29.0               3                               1               295   \n",
       "\n",
       "   bedrooms  bathrooms host_is_superhost  accommodates  beds  \\\n",
       "0       1.0        1.0                 t             2   1.0   \n",
       "1       1.0        1.0                 f             2   2.0   \n",
       "2       1.0        1.0                 f             1   1.0   \n",
       "3       6.0        1.0                 f             3   1.0   \n",
       "4       1.0        1.5                 t             1   1.0   \n",
       "\n",
       "   number_of_reviews  review_scores_rating  review_scores_communication  \\\n",
       "0                106                  4.88                         4.86   \n",
       "1                172                  4.63                         4.78   \n",
       "2                 33                  4.58                         4.82   \n",
       "3                 33                  4.91                         4.97   \n",
       "4                196                  4.72                         4.72   \n",
       "\n",
       "   review_scores_location  \n",
       "0                    4.84  \n",
       "1                    4.90  \n",
       "2                    4.21  \n",
       "3                    5.00  \n",
       "4                    4.73  "
      ]
     },
     "execution_count": 64,
     "metadata": {},
     "output_type": "execute_result"
    }
   ],
   "source": [
    "df.head()"
   ]
  },
  {
   "cell_type": "code",
   "execution_count": 65,
   "id": "5301c68a-283c-4d83-9d68-676e64c08541",
   "metadata": {},
   "outputs": [
    {
     "data": {
      "text/plain": [
       "Index(['Arganzuela', 'Barajas', 'Carabanchel', 'Centro', 'Chamartín',\n",
       "       'Chamberí', 'Ciudad Lineal', 'Fuencarral - El Pardo', 'Hortaleza',\n",
       "       'Latina', 'Moncloa - Aravaca', 'Moratalaz', 'Puente de Vallecas',\n",
       "       'Retiro', 'Salamanca', 'San Blas - Canillejas', 'Tetuán', 'Usera',\n",
       "       'Vicálvaro', 'Villa de Vallecas', 'Villaverde'],\n",
       "      dtype='object')"
      ]
     },
     "execution_count": 65,
     "metadata": {},
     "output_type": "execute_result"
    }
   ],
   "source": [
    "df.neighbourhood_group.unique().categories"
   ]
  },
  {
   "cell_type": "code",
   "execution_count": 66,
   "id": "70d15255-a40b-467c-9dac-82211da92fda",
   "metadata": {},
   "outputs": [
    {
     "data": {
      "text/plain": [
       "array(['Arganzuela', 'Barajas', 'Carabanchel', 'Centro', 'Chamartín',\n",
       "       'Chamberí', 'Ciudad Lineal', 'Fuencarral', 'Hortaleza', 'Latina',\n",
       "       'Moncloa', 'Moratalaz', 'Puente de Vallecas', 'Retiro',\n",
       "       'Salamanca', 'San Blas', 'Tetuán', 'Usera', 'Vicálvaro',\n",
       "       'Villa de Vallecas', 'Villaverde'], dtype=object)"
      ]
     },
     "execution_count": 66,
     "metadata": {},
     "output_type": "execute_result"
    }
   ],
   "source": [
    "precio_m2.distrito.unique()"
   ]
  },
  {
   "cell_type": "code",
   "execution_count": 67,
   "id": "75750170-f9eb-4ad4-af68-3b9acf40704a",
   "metadata": {},
   "outputs": [],
   "source": [
    "precio_m2[\"distrito\"] = precio_m2.distrito.map({\"Fuencarral\":\"Fuencarral - El Pardo\", \n",
    "                        \"Moncloa\":\"Moncloa - Aravaca\",\n",
    "                        \"San Blas\":\"San Blas - Canillejas\"})\\\n",
    "                    .fillna(precio_m2.distrito)\n"
   ]
  },
  {
   "cell_type": "code",
   "execution_count": 68,
   "id": "9fa770f7-d9dc-4913-bffc-10ffaf79c834",
   "metadata": {},
   "outputs": [
    {
     "data": {
      "text/plain": [
       "array(['Arganzuela', 'Barajas', 'Carabanchel', 'Centro', 'Chamartín',\n",
       "       'Chamberí', 'Ciudad Lineal', 'Fuencarral - El Pardo', 'Hortaleza',\n",
       "       'Latina', 'Moncloa - Aravaca', 'Moratalaz', 'Puente de Vallecas',\n",
       "       'Retiro', 'Salamanca', 'San Blas - Canillejas', 'Tetuán', 'Usera',\n",
       "       'Vicálvaro', 'Villa de Vallecas', 'Villaverde'], dtype=object)"
      ]
     },
     "execution_count": 68,
     "metadata": {},
     "output_type": "execute_result"
    }
   ],
   "source": [
    "precio_m2.distrito.unique()"
   ]
  },
  {
   "cell_type": "code",
   "execution_count": 69,
   "id": "ad884b1f-aba6-4e71-bafa-ab4e6ea2dc7e",
   "metadata": {},
   "outputs": [
    {
     "data": {
      "text/plain": [
       "(21387, 21)"
      ]
     },
     "execution_count": 69,
     "metadata": {},
     "output_type": "execute_result"
    }
   ],
   "source": [
    "df.shape"
   ]
  },
  {
   "cell_type": "code",
   "execution_count": 70,
   "id": "84a7e801-76a6-4253-8db2-cdedc35059a4",
   "metadata": {},
   "outputs": [
    {
     "data": {
      "text/plain": [
       "(21, 2)"
      ]
     },
     "execution_count": 70,
     "metadata": {},
     "output_type": "execute_result"
    }
   ],
   "source": [
    "precio_m2.shape"
   ]
  },
  {
   "cell_type": "code",
   "execution_count": 71,
   "id": "3dd555eb-0ab5-4599-8d70-aa40fd18cb8f",
   "metadata": {},
   "outputs": [],
   "source": [
    "df = pd.merge(left=df, right=precio_m2, how=\"left\", left_on=\"neighbourhood_group\", right_on=\"distrito\")"
   ]
  },
  {
   "cell_type": "code",
   "execution_count": 72,
   "id": "a1e40f81-2f55-4ccf-a809-8cd966b9f6b0",
   "metadata": {},
   "outputs": [],
   "source": [
    "df.drop(columns=\"distrito\", inplace=True)"
   ]
  },
  {
   "cell_type": "markdown",
   "id": "cf1e416f-3697-4c88-82da-c4a76ec3bf0b",
   "metadata": {},
   "source": [
    "## Guardar tabla en la base de datos"
   ]
  },
  {
   "cell_type": "markdown",
   "id": "f4813a9f-9f74-47ff-a645-4adfbc8a65c3",
   "metadata": {},
   "source": [
    "- Guardamos nuestra tabla final en la base de datos airbnb.db"
   ]
  },
  {
   "cell_type": "code",
   "execution_count": 74,
   "id": "eba4485c-e40f-406a-8f51-d00d211cbc9c",
   "metadata": {},
   "outputs": [
    {
     "data": {
      "text/plain": [
       "21387"
      ]
     },
     "execution_count": 74,
     "metadata": {},
     "output_type": "execute_result"
    }
   ],
   "source": [
    "import sqlalchemy as sa\n",
    "\n",
    "con = sa.create_engine(\"sqlite:///Datos2023/airbnb.db\")\n",
    "\n",
    "df.to_sql(\"df\", con=con, if_exists=\"replace\")"
   ]
  },
  {
   "cell_type": "code",
   "execution_count": 75,
   "id": "d836cf27-4027-48d7-868a-60dfa4288340",
   "metadata": {
    "scrolled": true
   },
   "outputs": [
    {
     "data": {
      "text/plain": [
       "['df', 'df_analisis', 'listings', 'listings_det']"
      ]
     },
     "execution_count": 75,
     "metadata": {},
     "output_type": "execute_result"
    }
   ],
   "source": [
    "from sqlalchemy import inspect\n",
    "\n",
    "ins = inspect(con)\n",
    "tablas = ins.get_table_names()\n",
    "tablas"
   ]
  },
  {
   "cell_type": "code",
   "execution_count": null,
   "id": "4e229ada-013b-43b9-8b82-7cba4544be88",
   "metadata": {},
   "outputs": [],
   "source": []
  }
 ],
 "metadata": {
  "kernelspec": {
   "display_name": "Python 3 (ipykernel)",
   "language": "python",
   "name": "python3"
  },
  "language_info": {
   "codemirror_mode": {
    "name": "ipython",
    "version": 3
   },
   "file_extension": ".py",
   "mimetype": "text/x-python",
   "name": "python",
   "nbconvert_exporter": "python",
   "pygments_lexer": "ipython3",
   "version": "3.12.4"
  }
 },
 "nbformat": 4,
 "nbformat_minor": 5
}
